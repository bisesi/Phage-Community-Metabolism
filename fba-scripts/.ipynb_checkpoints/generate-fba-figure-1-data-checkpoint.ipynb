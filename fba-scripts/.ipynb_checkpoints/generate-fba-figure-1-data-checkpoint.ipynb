{
 "cells": [
  {
   "cell_type": "markdown",
   "id": "11026859",
   "metadata": {},
   "source": [
    "# Metabolite fluxes and biomass under pFBA and FVA across infection statuses, *E. coli* in monoculture"
   ]
  },
  {
   "cell_type": "markdown",
   "id": "ef6a40e9",
   "metadata": {},
   "source": [
    "Set up the necessary environment."
   ]
  },
  {
   "cell_type": "code",
   "execution_count": 1,
   "id": "26885efa",
   "metadata": {},
   "outputs": [],
   "source": [
    "import cobra\n",
    "import numpy as np\n",
    "import pandas as pd\n",
    "import warnings\n",
    "warnings.filterwarnings('ignore')"
   ]
  },
  {
   "cell_type": "code",
   "execution_count": 2,
   "id": "9a144b3f",
   "metadata": {},
   "outputs": [],
   "source": [
    "#set the paths for loading the model and exporting the data\n",
    "model_path = \"../models/iJO1366_plasmid_phage.xml\"\n",
    "export_path = \"../fba-data/figure-1/cobra/\""
   ]
  },
  {
   "cell_type": "code",
   "execution_count": 3,
   "id": "76d34a15-8d11-40ce-b042-ea24d80d1f18",
   "metadata": {},
   "outputs": [],
   "source": [
    "ef1 = cobra.io.read_sbml_model(model_path)"
   ]
  },
  {
   "cell_type": "code",
   "execution_count": 4,
   "id": "694f5204-8697-44db-a0ac-deb5783cfdc6",
   "metadata": {},
   "outputs": [],
   "source": [
    "# test conversion\n",
    "ef1 = cobra.io.read_sbml_model(model_path)\n",
    "ef1.reactions.plasmid_F.reaction = '1.0487663835663 ala__L_c + 0.375189220845313 arg__L_c + 0.252042985698166 asn__L_c + 0.23012847099302 asp__L_c + 0.0617971010563441 cys__L_c + 31.4390293663471 atp_c + 0.000310535123271839 dctp_c + 0.000310535123271839 dgtp_c + 0.000307719504895013 datp_c + 0.000307719504895013 dttp_c + 0.239453533629087 gln__L_c + 0.166879939481303 glu__L_c + 0.550578201069248 gly_c + 31.4387216468422 h2o_c + 0.109480365927243 his__L_c + 0.303202311009479 ile__L_c + 0.955403496783467 leu__L_c + 0.318730982418103 lys__L_c + 0.425808509511056 met__L_c + 0.479268785743603 phe__L_c + 0.222207077389324 pro__L_c + 0.528621980342174 ser__L_c + 0.388434090062005 thr__L_c + 0.221056983156149 trp__L_c + 0.144291651462158 tyr__L_c + 0.838338349373724 val__L_c --> 31.4387216468422 adp_c + 31.4387216468422 h_c + 31.4387216468422 pi_c + 0.00123650405186351 ppi_c'\n",
    "ef1.reactions.phage_M13.reaction = '0.898142036193534 ala__L_c + 0.136473533481805 arg__L_c + 0.138976716414339 asn__L_c + 0.222182517091801 asp__L_c + 0.0345439244689821 cys__L_c + 27.9053031027283 atp_c + 0.0523065105582499 dctp_c + 0.0523065105582499 dgtp_c + 0.0759966338317605 dttp_c + 0.0759966338317605 datp_c + 0.250218165936192 gln__L_c + 0.24080619810986 glu__L_c + 0.454778275182947 gly_c + 27.8293064688965 h2o_c + 0.0338430332478723 his__L_c + 0.359857578381222 ile__L_c + 0.665346023467785 leu__L_c + 0.635307828277366 lys__L_c + 0.228090028812583 met__L_c + 0.327816836844775 phe__L_c + 0.304987808500056 pro__L_c + 0.631102480950707 ser__L_c + 0.358856305208208 thr__L_c + 0.0578735894002076 trp__L_c + 0.27374808550202 tyr__L_c + 0.70439567721533 val__L_c --> 27.8293064688965 adp_c + 27.8293064688965 h_c + 27.8293064688965 pi_c + 0.2565662378531 ppi_c'"
   ]
  },
  {
   "cell_type": "markdown",
   "id": "e211713a-4dc6-425a-aa9a-c6da64f81026",
   "metadata": {},
   "source": [
    "## Get the biomass reactions to compare components across host and parasites"
   ]
  },
  {
   "cell_type": "code",
   "execution_count": 4,
   "id": "b3c56db0-aa6c-41ae-bf48-f3e50724056f",
   "metadata": {},
   "outputs": [],
   "source": [
    "def parse_to_dataframe(input_string):\n",
    "    # Split the input string at \" --> \" to separate the relevant and ignored parts\n",
    "    relevant_part = input_string.split(\" --> \")[0]\n",
    "    \n",
    "    # Split the relevant part by '+' to separate each term\n",
    "    terms = relevant_part.split(\" + \")\n",
    "    \n",
    "    # Initialize lists to store coefficients and chemical terms\n",
    "    coefficients = []\n",
    "    chemicals = []\n",
    "    \n",
    "    # Process each term\n",
    "    for term in terms:\n",
    "        # Split the term by whitespace to separate the coefficient and the chemical term\n",
    "        coefficient, chemical = term.split(\" \", 1)\n",
    "        coefficients.append(float(coefficient))\n",
    "        chemicals.append(chemical)\n",
    "    \n",
    "    # Create a DataFrame with two columns\n",
    "    df = pd.DataFrame({\n",
    "        'Coefficient': coefficients,\n",
    "        'Chemical': chemicals\n",
    "    })\n",
    "    \n",
    "    return df"
   ]
  },
  {
   "cell_type": "code",
   "execution_count": 5,
   "id": "91335f10-38d6-4695-8fcb-2889371db9aa",
   "metadata": {},
   "outputs": [],
   "source": [
    "input_string = ef1.reactions.BIOMASS_Ec_iJO1366_core_53p95M.reaction\n",
    "df_host = parse_to_dataframe(input_string)\n",
    "df_host[\"reaction\"] = \"host\""
   ]
  },
  {
   "cell_type": "code",
   "execution_count": 6,
   "id": "02a84bb9-0fe2-4dae-bd7d-1867e33b62d0",
   "metadata": {},
   "outputs": [],
   "source": [
    "input_string = ef1.reactions.phage_M13.reaction\n",
    "df_virus = parse_to_dataframe(input_string)\n",
    "df_virus[\"reaction\"] = \"virus\""
   ]
  },
  {
   "cell_type": "code",
   "execution_count": 7,
   "id": "d830b202-04d8-469d-ab7d-d61b97f044ed",
   "metadata": {},
   "outputs": [],
   "source": [
    "input_string = ef1.reactions.plasmid_F.reaction\n",
    "df_plasmid = parse_to_dataframe(input_string)\n",
    "df_plasmid[\"reaction\"] = \"plasmid\""
   ]
  },
  {
   "cell_type": "code",
   "execution_count": 8,
   "id": "d6437496-5e32-4856-a399-550bdbd54b64",
   "metadata": {},
   "outputs": [],
   "source": [
    "df = pd.concat([df_host, df_virus, df_plasmid])"
   ]
  },
  {
   "cell_type": "markdown",
   "id": "782e7440",
   "metadata": {},
   "source": [
    "## Find the maximum bacterial biomass that can be generated when parasite biomass is optimized"
   ]
  },
  {
   "cell_type": "code",
   "execution_count": 5,
   "id": "204322f1",
   "metadata": {},
   "outputs": [],
   "source": [
    "ef1 = cobra.io.read_sbml_model(model_path)\n",
    "ef1.reactions.plasmid_F.reaction = '1.0487663835663 ala__L_c + 0.375189220845313 arg__L_c + 0.252042985698166 asn__L_c + 0.23012847099302 asp__L_c + 0.0617971010563441 cys__L_c + 31.4390293663471 atp_c + 0.000310535123271839 dctp_c + 0.000310535123271839 dgtp_c + 0.000307719504895013 datp_c + 0.000307719504895013 dttp_c + 0.239453533629087 gln__L_c + 0.166879939481303 glu__L_c + 0.550578201069248 gly_c + 31.4387216468422 h2o_c + 0.109480365927243 his__L_c + 0.303202311009479 ile__L_c + 0.955403496783467 leu__L_c + 0.318730982418103 lys__L_c + 0.425808509511056 met__L_c + 0.479268785743603 phe__L_c + 0.222207077389324 pro__L_c + 0.528621980342174 ser__L_c + 0.388434090062005 thr__L_c + 0.221056983156149 trp__L_c + 0.144291651462158 tyr__L_c + 0.838338349373724 val__L_c --> 31.4387216468422 adp_c + 31.4387216468422 h_c + 31.4387216468422 pi_c + 0.00123650405186351 ppi_c'\n",
    "ef1.reactions.phage_M13.reaction = '0.898142036193534 ala__L_c + 0.136473533481805 arg__L_c + 0.138976716414339 asn__L_c + 0.222182517091801 asp__L_c + 0.0345439244689821 cys__L_c + 27.9053031027283 atp_c + 0.0523065105582499 dctp_c + 0.0523065105582499 dgtp_c + 0.0759966338317605 dttp_c + 0.0759966338317605 datp_c + 0.250218165936192 gln__L_c + 0.24080619810986 glu__L_c + 0.454778275182947 gly_c + 27.8293064688965 h2o_c + 0.0338430332478723 his__L_c + 0.359857578381222 ile__L_c + 0.665346023467785 leu__L_c + 0.635307828277366 lys__L_c + 0.228090028812583 met__L_c + 0.327816836844775 phe__L_c + 0.304987808500056 pro__L_c + 0.631102480950707 ser__L_c + 0.358856305208208 thr__L_c + 0.0578735894002076 trp__L_c + 0.27374808550202 tyr__L_c + 0.70439567721533 val__L_c --> 27.8293064688965 adp_c + 27.8293064688965 h_c + 27.8293064688965 pi_c + 0.2565662378531 ppi_c'\n",
    "medium = ef1.medium\n",
    "medium[\"EX_glc__D_e\"] = 0.0\n",
    "medium[\"EX_lcts_e\"] = 10.0\n",
    "medium[\"EX_met__L_e\"] = 10.0\n",
    "ef1.medium = medium\n",
    "ef1.genes.b3939.knock_out()\n",
    "ef1.objective = ef1.reactions.phage_M13 #set the objective to viral biomass\n",
    "solution = ef1.optimize()\n",
    "maximized_f1_gluc = solution.fluxes.phage_M13\n",
    "\n",
    "ef1 = cobra.io.read_sbml_model(model_path)\n",
    "ef1.reactions.plasmid_F.reaction = '1.0487663835663 ala__L_c + 0.375189220845313 arg__L_c + 0.252042985698166 asn__L_c + 0.23012847099302 asp__L_c + 0.0617971010563441 cys__L_c + 31.4390293663471 atp_c + 0.000310535123271839 dctp_c + 0.000310535123271839 dgtp_c + 0.000307719504895013 datp_c + 0.000307719504895013 dttp_c + 0.239453533629087 gln__L_c + 0.166879939481303 glu__L_c + 0.550578201069248 gly_c + 31.4387216468422 h2o_c + 0.109480365927243 his__L_c + 0.303202311009479 ile__L_c + 0.955403496783467 leu__L_c + 0.318730982418103 lys__L_c + 0.425808509511056 met__L_c + 0.479268785743603 phe__L_c + 0.222207077389324 pro__L_c + 0.528621980342174 ser__L_c + 0.388434090062005 thr__L_c + 0.221056983156149 trp__L_c + 0.144291651462158 tyr__L_c + 0.838338349373724 val__L_c --> 31.4387216468422 adp_c + 31.4387216468422 h_c + 31.4387216468422 pi_c + 0.00123650405186351 ppi_c'\n",
    "ef1.reactions.phage_M13.reaction = '0.898142036193534 ala__L_c + 0.136473533481805 arg__L_c + 0.138976716414339 asn__L_c + 0.222182517091801 asp__L_c + 0.0345439244689821 cys__L_c + 27.9053031027283 atp_c + 0.0523065105582499 dctp_c + 0.0523065105582499 dgtp_c + 0.0759966338317605 dttp_c + 0.0759966338317605 datp_c + 0.250218165936192 gln__L_c + 0.24080619810986 glu__L_c + 0.454778275182947 gly_c + 27.8293064688965 h2o_c + 0.0338430332478723 his__L_c + 0.359857578381222 ile__L_c + 0.665346023467785 leu__L_c + 0.635307828277366 lys__L_c + 0.228090028812583 met__L_c + 0.327816836844775 phe__L_c + 0.304987808500056 pro__L_c + 0.631102480950707 ser__L_c + 0.358856305208208 thr__L_c + 0.0578735894002076 trp__L_c + 0.27374808550202 tyr__L_c + 0.70439567721533 val__L_c --> 27.8293064688965 adp_c + 27.8293064688965 h_c + 27.8293064688965 pi_c + 0.2565662378531 ppi_c'\n",
    "medium = ef1.medium\n",
    "medium[\"EX_glc__D_e\"] = 0.0\n",
    "medium[\"EX_lcts_e\"] = 10.0\n",
    "medium[\"EX_met__L_e\"] = 10.0\n",
    "ef1.medium = medium\n",
    "ef1.genes.b3939.knock_out()\n",
    "ef1.objective = ef1.reactions.plasmid_F #set the objective to plasmid biomass\n",
    "solution = ef1.optimize()\n",
    "maximized_plasmid_gluc = solution.fluxes.plasmid_F"
   ]
  },
  {
   "cell_type": "markdown",
   "id": "345bf615",
   "metadata": {},
   "source": [
    "## Get fluxes using pFBA in either a host or parasite optimized state"
   ]
  },
  {
   "cell_type": "code",
   "execution_count": 15,
   "id": "0e379e90",
   "metadata": {},
   "outputs": [],
   "source": [
    "ef1 = cobra.io.read_sbml_model(model_path)\n",
    "ef1.reactions.plasmid_F.reaction = '1.0487663835663 ala__L_c + 0.375189220845313 arg__L_c + 0.252042985698166 asn__L_c + 0.23012847099302 asp__L_c + 0.0617971010563441 cys__L_c + 31.4390293663471 atp_c + 0.000310535123271839 dctp_c + 0.000310535123271839 dgtp_c + 0.000307719504895013 datp_c + 0.000307719504895013 dttp_c + 0.239453533629087 gln__L_c + 0.166879939481303 glu__L_c + 0.550578201069248 gly_c + 31.4387216468422 h2o_c + 0.109480365927243 his__L_c + 0.303202311009479 ile__L_c + 0.955403496783467 leu__L_c + 0.318730982418103 lys__L_c + 0.425808509511056 met__L_c + 0.479268785743603 phe__L_c + 0.222207077389324 pro__L_c + 0.528621980342174 ser__L_c + 0.388434090062005 thr__L_c + 0.221056983156149 trp__L_c + 0.144291651462158 tyr__L_c + 0.838338349373724 val__L_c --> 31.4387216468422 adp_c + 31.4387216468422 h_c + 31.4387216468422 pi_c + 0.00123650405186351 ppi_c'\n",
    "ef1.reactions.phage_M13.reaction = '0.898142036193534 ala__L_c + 0.136473533481805 arg__L_c + 0.138976716414339 asn__L_c + 0.222182517091801 asp__L_c + 0.0345439244689821 cys__L_c + 27.9053031027283 atp_c + 0.0523065105582499 dctp_c + 0.0523065105582499 dgtp_c + 0.0759966338317605 dttp_c + 0.0759966338317605 datp_c + 0.250218165936192 gln__L_c + 0.24080619810986 glu__L_c + 0.454778275182947 gly_c + 27.8293064688965 h2o_c + 0.0338430332478723 his__L_c + 0.359857578381222 ile__L_c + 0.665346023467785 leu__L_c + 0.635307828277366 lys__L_c + 0.228090028812583 met__L_c + 0.327816836844775 phe__L_c + 0.304987808500056 pro__L_c + 0.631102480950707 ser__L_c + 0.358856305208208 thr__L_c + 0.0578735894002076 trp__L_c + 0.27374808550202 tyr__L_c + 0.70439567721533 val__L_c --> 27.8293064688965 adp_c + 27.8293064688965 h_c + 27.8293064688965 pi_c + 0.2565662378531 ppi_c'\n",
    "medium = ef1.medium\n",
    "medium[\"EX_glc__D_e\"] = 0.0\n",
    "medium[\"EX_lcts_e\"] = 10.0\n",
    "medium[\"EX_met__L_e\"] = 10.0\n",
    "ef1.medium = medium\n",
    "ef1.genes.b3939.knock_out()\n",
    "ef1.objective = ef1.reactions.get_by_id(\"BIOMASS_Ec_iJO1366_core_53p95M\")\n",
    "solution = ef1.optimize()\n",
    "host_fluxes = pd.DataFrame(solution.fluxes)\n",
    "host_fluxes[\"parasite\"] = \"bacteria\""
   ]
  },
  {
   "cell_type": "code",
   "execution_count": 16,
   "id": "af4d23cb",
   "metadata": {},
   "outputs": [],
   "source": [
    "ef1 = cobra.io.read_sbml_model(model_path)\n",
    "ef1.reactions.plasmid_F.reaction = '1.0487663835663 ala__L_c + 0.375189220845313 arg__L_c + 0.252042985698166 asn__L_c + 0.23012847099302 asp__L_c + 0.0617971010563441 cys__L_c + 31.4390293663471 atp_c + 0.000310535123271839 dctp_c + 0.000310535123271839 dgtp_c + 0.000307719504895013 datp_c + 0.000307719504895013 dttp_c + 0.239453533629087 gln__L_c + 0.166879939481303 glu__L_c + 0.550578201069248 gly_c + 31.4387216468422 h2o_c + 0.109480365927243 his__L_c + 0.303202311009479 ile__L_c + 0.955403496783467 leu__L_c + 0.318730982418103 lys__L_c + 0.425808509511056 met__L_c + 0.479268785743603 phe__L_c + 0.222207077389324 pro__L_c + 0.528621980342174 ser__L_c + 0.388434090062005 thr__L_c + 0.221056983156149 trp__L_c + 0.144291651462158 tyr__L_c + 0.838338349373724 val__L_c --> 31.4387216468422 adp_c + 31.4387216468422 h_c + 31.4387216468422 pi_c + 0.00123650405186351 ppi_c'\n",
    "ef1.reactions.phage_M13.reaction = '0.898142036193534 ala__L_c + 0.136473533481805 arg__L_c + 0.138976716414339 asn__L_c + 0.222182517091801 asp__L_c + 0.0345439244689821 cys__L_c + 27.9053031027283 atp_c + 0.0523065105582499 dctp_c + 0.0523065105582499 dgtp_c + 0.0759966338317605 dttp_c + 0.0759966338317605 datp_c + 0.250218165936192 gln__L_c + 0.24080619810986 glu__L_c + 0.454778275182947 gly_c + 27.8293064688965 h2o_c + 0.0338430332478723 his__L_c + 0.359857578381222 ile__L_c + 0.665346023467785 leu__L_c + 0.635307828277366 lys__L_c + 0.228090028812583 met__L_c + 0.327816836844775 phe__L_c + 0.304987808500056 pro__L_c + 0.631102480950707 ser__L_c + 0.358856305208208 thr__L_c + 0.0578735894002076 trp__L_c + 0.27374808550202 tyr__L_c + 0.70439567721533 val__L_c --> 27.8293064688965 adp_c + 27.8293064688965 h_c + 27.8293064688965 pi_c + 0.2565662378531 ppi_c'\n",
    "medium = ef1.medium\n",
    "medium[\"EX_glc__D_e\"] = 0.0\n",
    "medium[\"EX_lcts_e\"] = 10.0\n",
    "medium[\"EX_met__L_e\"] = 10.0\n",
    "ef1.medium = medium\n",
    "ef1.genes.b3939.knock_out()\n",
    "ef1.objective = ef1.reactions.phage_M13 #set the objective to viral biomass\n",
    "solution = ef1.optimize()\n",
    "virus_fluxes = pd.DataFrame(solution.fluxes)\n",
    "virus_fluxes[\"parasite\"] = \"virus\""
   ]
  },
  {
   "cell_type": "code",
   "execution_count": 17,
   "id": "a1f92dad",
   "metadata": {},
   "outputs": [],
   "source": [
    "ef1 = cobra.io.read_sbml_model(model_path)\n",
    "ef1.reactions.plasmid_F.reaction = '1.0487663835663 ala__L_c + 0.375189220845313 arg__L_c + 0.252042985698166 asn__L_c + 0.23012847099302 asp__L_c + 0.0617971010563441 cys__L_c + 31.4390293663471 atp_c + 0.000310535123271839 dctp_c + 0.000310535123271839 dgtp_c + 0.000307719504895013 datp_c + 0.000307719504895013 dttp_c + 0.239453533629087 gln__L_c + 0.166879939481303 glu__L_c + 0.550578201069248 gly_c + 31.4387216468422 h2o_c + 0.109480365927243 his__L_c + 0.303202311009479 ile__L_c + 0.955403496783467 leu__L_c + 0.318730982418103 lys__L_c + 0.425808509511056 met__L_c + 0.479268785743603 phe__L_c + 0.222207077389324 pro__L_c + 0.528621980342174 ser__L_c + 0.388434090062005 thr__L_c + 0.221056983156149 trp__L_c + 0.144291651462158 tyr__L_c + 0.838338349373724 val__L_c --> 31.4387216468422 adp_c + 31.4387216468422 h_c + 31.4387216468422 pi_c + 0.00123650405186351 ppi_c'\n",
    "ef1.reactions.phage_M13.reaction = '0.898142036193534 ala__L_c + 0.136473533481805 arg__L_c + 0.138976716414339 asn__L_c + 0.222182517091801 asp__L_c + 0.0345439244689821 cys__L_c + 27.9053031027283 atp_c + 0.0523065105582499 dctp_c + 0.0523065105582499 dgtp_c + 0.0759966338317605 dttp_c + 0.0759966338317605 datp_c + 0.250218165936192 gln__L_c + 0.24080619810986 glu__L_c + 0.454778275182947 gly_c + 27.8293064688965 h2o_c + 0.0338430332478723 his__L_c + 0.359857578381222 ile__L_c + 0.665346023467785 leu__L_c + 0.635307828277366 lys__L_c + 0.228090028812583 met__L_c + 0.327816836844775 phe__L_c + 0.304987808500056 pro__L_c + 0.631102480950707 ser__L_c + 0.358856305208208 thr__L_c + 0.0578735894002076 trp__L_c + 0.27374808550202 tyr__L_c + 0.70439567721533 val__L_c --> 27.8293064688965 adp_c + 27.8293064688965 h_c + 27.8293064688965 pi_c + 0.2565662378531 ppi_c'\n",
    "medium = ef1.medium\n",
    "medium[\"EX_glc__D_e\"] = 0.0\n",
    "medium[\"EX_lcts_e\"] = 10.0\n",
    "medium[\"EX_met__L_e\"] = 10.0\n",
    "ef1.medium = medium\n",
    "ef1.genes.b3939.knock_out()\n",
    "ef1.objective = ef1.reactions.plasmid_F #set the objective to plasmid biomass\n",
    "solution = ef1.optimize()\n",
    "plasmid_fluxes = pd.DataFrame(solution.fluxes)\n",
    "plasmid_fluxes[\"parasite\"] = \"plasmid\""
   ]
  },
  {
   "cell_type": "code",
   "execution_count": 18,
   "id": "42a47647",
   "metadata": {},
   "outputs": [],
   "source": [
    "ef1 = cobra.io.read_sbml_model(model_path)\n",
    "ef1.reactions.plasmid_F.reaction = '1.0487663835663 ala__L_c + 0.375189220845313 arg__L_c + 0.252042985698166 asn__L_c + 0.23012847099302 asp__L_c + 0.0617971010563441 cys__L_c + 31.4390293663471 atp_c + 0.000310535123271839 dctp_c + 0.000310535123271839 dgtp_c + 0.000307719504895013 datp_c + 0.000307719504895013 dttp_c + 0.239453533629087 gln__L_c + 0.166879939481303 glu__L_c + 0.550578201069248 gly_c + 31.4387216468422 h2o_c + 0.109480365927243 his__L_c + 0.303202311009479 ile__L_c + 0.955403496783467 leu__L_c + 0.318730982418103 lys__L_c + 0.425808509511056 met__L_c + 0.479268785743603 phe__L_c + 0.222207077389324 pro__L_c + 0.528621980342174 ser__L_c + 0.388434090062005 thr__L_c + 0.221056983156149 trp__L_c + 0.144291651462158 tyr__L_c + 0.838338349373724 val__L_c --> 31.4387216468422 adp_c + 31.4387216468422 h_c + 31.4387216468422 pi_c + 0.00123650405186351 ppi_c'\n",
    "ef1.reactions.phage_M13.reaction = '0.898142036193534 ala__L_c + 0.136473533481805 arg__L_c + 0.138976716414339 asn__L_c + 0.222182517091801 asp__L_c + 0.0345439244689821 cys__L_c + 27.9053031027283 atp_c + 0.0523065105582499 dctp_c + 0.0523065105582499 dgtp_c + 0.0759966338317605 dttp_c + 0.0759966338317605 datp_c + 0.250218165936192 gln__L_c + 0.24080619810986 glu__L_c + 0.454778275182947 gly_c + 27.8293064688965 h2o_c + 0.0338430332478723 his__L_c + 0.359857578381222 ile__L_c + 0.665346023467785 leu__L_c + 0.635307828277366 lys__L_c + 0.228090028812583 met__L_c + 0.327816836844775 phe__L_c + 0.304987808500056 pro__L_c + 0.631102480950707 ser__L_c + 0.358856305208208 thr__L_c + 0.0578735894002076 trp__L_c + 0.27374808550202 tyr__L_c + 0.70439567721533 val__L_c --> 27.8293064688965 adp_c + 27.8293064688965 h_c + 27.8293064688965 pi_c + 0.2565662378531 ppi_c'\n",
    "medium = ef1.medium\n",
    "medium[\"EX_glc__D_e\"] = 0.0\n",
    "medium[\"EX_lcts_e\"] = 10.0\n",
    "medium[\"EX_met__L_e\"] = 10.0\n",
    "ef1.medium = medium\n",
    "ef1.genes.b3939.knock_out()\n",
    "ef1.objective = ef1.reactions.phage_M13 #set the objective to viral biomass given a plasmid lower bound\n",
    "ef1.reactions.plasmid_F.lower_bound = 0.1\n",
    "solution = ef1.optimize()\n",
    "plasmidphage_fluxes = pd.DataFrame(solution.fluxes)\n",
    "plasmidphage_fluxes[\"parasite\"] = \"virus with plasmid\""
   ]
  },
  {
   "cell_type": "code",
   "execution_count": null,
   "id": "2410a835-3f08-4efc-ba90-7cfe219661a2",
   "metadata": {},
   "outputs": [],
   "source": [
    "pfba_optimized = pd.concat([host_fluxes,plasmidphage_fluxes, plasmid_fluxes, virus_fluxes])"
   ]
  },
  {
   "cell_type": "code",
   "execution_count": 14,
   "id": "c8e91e54-56aa-450f-829f-b473626b10b5",
   "metadata": {},
   "outputs": [
    {
     "name": "stdout",
     "output_type": "stream",
     "text": [
      "0.0\n",
      "0.1\n",
      "0.2\n",
      "0.30000000000000004\n",
      "0.4\n",
      "0.5\n",
      "0.6000000000000001\n",
      "0.7000000000000001\n",
      "0.8\n",
      "0.9\n",
      "1.0\n",
      "1.1\n",
      "1.2000000000000002\n",
      "1.3\n",
      "1.4000000000000001\n",
      "1.5\n",
      "1.6\n",
      "1.7000000000000002\n",
      "1.8\n",
      "1.9000000000000001\n",
      "2.0\n",
      "2.1\n",
      "2.2\n",
      "2.3000000000000003\n",
      "2.4000000000000004\n"
     ]
    }
   ],
   "source": [
    "range_plasmid_fluxes = pd.DataFrame()\n",
    "for i in np.arange(0, maximized_plasmid_gluc, 0.1):\n",
    "    ef1 = cobra.io.read_sbml_model(model_path)\n",
    "    ef1.reactions.plasmid_F.reaction = '1.0487663835663 ala__L_c + 0.375189220845313 arg__L_c + 0.252042985698166 asn__L_c + 0.23012847099302 asp__L_c + 0.0617971010563441 cys__L_c + 31.4390293663471 atp_c + 0.000310535123271839 dctp_c + 0.000310535123271839 dgtp_c + 0.000307719504895013 datp_c + 0.000307719504895013 dttp_c + 0.239453533629087 gln__L_c + 0.166879939481303 glu__L_c + 0.550578201069248 gly_c + 31.4387216468422 h2o_c + 0.109480365927243 his__L_c + 0.303202311009479 ile__L_c + 0.955403496783467 leu__L_c + 0.318730982418103 lys__L_c + 0.425808509511056 met__L_c + 0.479268785743603 phe__L_c + 0.222207077389324 pro__L_c + 0.528621980342174 ser__L_c + 0.388434090062005 thr__L_c + 0.221056983156149 trp__L_c + 0.144291651462158 tyr__L_c + 0.838338349373724 val__L_c --> 31.4387216468422 adp_c + 31.4387216468422 h_c + 31.4387216468422 pi_c + 0.00123650405186351 ppi_c'\n",
    "    ef1.reactions.phage_M13.reaction = '0.898142036193534 ala__L_c + 0.136473533481805 arg__L_c + 0.138976716414339 asn__L_c + 0.222182517091801 asp__L_c + 0.0345439244689821 cys__L_c + 27.9053031027283 atp_c + 0.0523065105582499 dctp_c + 0.0523065105582499 dgtp_c + 0.0759966338317605 dttp_c + 0.0759966338317605 datp_c + 0.250218165936192 gln__L_c + 0.24080619810986 glu__L_c + 0.454778275182947 gly_c + 27.8293064688965 h2o_c + 0.0338430332478723 his__L_c + 0.359857578381222 ile__L_c + 0.665346023467785 leu__L_c + 0.635307828277366 lys__L_c + 0.228090028812583 met__L_c + 0.327816836844775 phe__L_c + 0.304987808500056 pro__L_c + 0.631102480950707 ser__L_c + 0.358856305208208 thr__L_c + 0.0578735894002076 trp__L_c + 0.27374808550202 tyr__L_c + 0.70439567721533 val__L_c --> 27.8293064688965 adp_c + 27.8293064688965 h_c + 27.8293064688965 pi_c + 0.2565662378531 ppi_c'\n",
    "    medium = ef1.medium\n",
    "    medium[\"EX_glc__D_e\"] = 0.0\n",
    "    medium[\"EX_lcts_e\"] = 10.0\n",
    "    medium[\"EX_met__L_e\"] = 10.0\n",
    "    ef1.medium = medium\n",
    "    ef1.genes.b3939.knock_out()\n",
    "    ef1.objective = ef1.reactions.phage_M13 #set the objective to viral biomass given a plasmid lower bound\n",
    "    ef1.reactions.plasmid_F.lower_bound = i\n",
    "    solution = ef1.optimize()\n",
    "    plasmidphage_fluxes = pd.DataFrame(solution.fluxes)\n",
    "    plasmidphage_fluxes[\"parasite\"] = \"virus with plasmid\"\n",
    "    plasmidphage_fluxes[\"plasmid_bound\"] = i\n",
    "    range_plasmid_fluxes = pd.concat([range_plasmid_fluxes, plasmidphage_fluxes])"
   ]
  },
  {
   "cell_type": "markdown",
   "id": "fd498acf",
   "metadata": {},
   "source": [
    "## Get bacterial fluxes using FVA in a host or parasite optimized state"
   ]
  },
  {
   "cell_type": "code",
   "execution_count": 24,
   "id": "af591c8c",
   "metadata": {},
   "outputs": [],
   "source": [
    "#host only\n",
    "host_fva = pd.DataFrame()\n",
    "ef1 = cobra.io.read_sbml_model(model_path)\n",
    "ef1.reactions.plasmid_F.reaction = '1.0487663835663 ala__L_c + 0.375189220845313 arg__L_c + 0.252042985698166 asn__L_c + 0.23012847099302 asp__L_c + 0.0617971010563441 cys__L_c + 31.4390293663471 atp_c + 0.000310535123271839 dctp_c + 0.000310535123271839 dgtp_c + 0.000307719504895013 datp_c + 0.000307719504895013 dttp_c + 0.239453533629087 gln__L_c + 0.166879939481303 glu__L_c + 0.550578201069248 gly_c + 31.4387216468422 h2o_c + 0.109480365927243 his__L_c + 0.303202311009479 ile__L_c + 0.955403496783467 leu__L_c + 0.318730982418103 lys__L_c + 0.425808509511056 met__L_c + 0.479268785743603 phe__L_c + 0.222207077389324 pro__L_c + 0.528621980342174 ser__L_c + 0.388434090062005 thr__L_c + 0.221056983156149 trp__L_c + 0.144291651462158 tyr__L_c + 0.838338349373724 val__L_c --> 31.4387216468422 adp_c + 31.4387216468422 h_c + 31.4387216468422 pi_c + 0.00123650405186351 ppi_c'\n",
    "ef1.reactions.phage_M13.reaction = '0.898142036193534 ala__L_c + 0.136473533481805 arg__L_c + 0.138976716414339 asn__L_c + 0.222182517091801 asp__L_c + 0.0345439244689821 cys__L_c + 27.9053031027283 atp_c + 0.0523065105582499 dctp_c + 0.0523065105582499 dgtp_c + 0.0759966338317605 dttp_c + 0.0759966338317605 datp_c + 0.250218165936192 gln__L_c + 0.24080619810986 glu__L_c + 0.454778275182947 gly_c + 27.8293064688965 h2o_c + 0.0338430332478723 his__L_c + 0.359857578381222 ile__L_c + 0.665346023467785 leu__L_c + 0.635307828277366 lys__L_c + 0.228090028812583 met__L_c + 0.327816836844775 phe__L_c + 0.304987808500056 pro__L_c + 0.631102480950707 ser__L_c + 0.358856305208208 thr__L_c + 0.0578735894002076 trp__L_c + 0.27374808550202 tyr__L_c + 0.70439567721533 val__L_c --> 27.8293064688965 adp_c + 27.8293064688965 h_c + 27.8293064688965 pi_c + 0.2565662378531 ppi_c'\n",
    "ef1.genes.b3939.knock_out()\n",
    "medium = ef1.medium\n",
    "medium[\"EX_glc__D_e\"] = 0.0\n",
    "medium[\"EX_lcts_e\"] = 10.0\n",
    "medium[\"EX_met__L_e\"] = 10.0\n",
    "ef1.medium = medium\n",
    "ef1.objective = ef1.reactions.get_by_id(\"BIOMASS_Ec_iJO1366_core_53p95M\")\n",
    "solution = cobra.flux_analysis.flux_variability_analysis(ef1, ef1.reactions, fraction_of_optimum=0.95)\n",
    "host_fva = pd.concat([host_fva, solution])\n",
    "\n",
    "host_fva[\"optimized\"] = \"host\""
   ]
  },
  {
   "cell_type": "code",
   "execution_count": 25,
   "id": "5e20f382",
   "metadata": {},
   "outputs": [],
   "source": [
    "#virus only\n",
    "virus_fva = pd.DataFrame()\n",
    "ef1 = cobra.io.read_sbml_model(model_path)\n",
    "ef1.reactions.plasmid_F.reaction = '1.0487663835663 ala__L_c + 0.375189220845313 arg__L_c + 0.252042985698166 asn__L_c + 0.23012847099302 asp__L_c + 0.0617971010563441 cys__L_c + 31.4390293663471 atp_c + 0.000310535123271839 dctp_c + 0.000310535123271839 dgtp_c + 0.000307719504895013 datp_c + 0.000307719504895013 dttp_c + 0.239453533629087 gln__L_c + 0.166879939481303 glu__L_c + 0.550578201069248 gly_c + 31.4387216468422 h2o_c + 0.109480365927243 his__L_c + 0.303202311009479 ile__L_c + 0.955403496783467 leu__L_c + 0.318730982418103 lys__L_c + 0.425808509511056 met__L_c + 0.479268785743603 phe__L_c + 0.222207077389324 pro__L_c + 0.528621980342174 ser__L_c + 0.388434090062005 thr__L_c + 0.221056983156149 trp__L_c + 0.144291651462158 tyr__L_c + 0.838338349373724 val__L_c --> 31.4387216468422 adp_c + 31.4387216468422 h_c + 31.4387216468422 pi_c + 0.00123650405186351 ppi_c'\n",
    "ef1.reactions.phage_M13.reaction = '0.898142036193534 ala__L_c + 0.136473533481805 arg__L_c + 0.138976716414339 asn__L_c + 0.222182517091801 asp__L_c + 0.0345439244689821 cys__L_c + 27.9053031027283 atp_c + 0.0523065105582499 dctp_c + 0.0523065105582499 dgtp_c + 0.0759966338317605 dttp_c + 0.0759966338317605 datp_c + 0.250218165936192 gln__L_c + 0.24080619810986 glu__L_c + 0.454778275182947 gly_c + 27.8293064688965 h2o_c + 0.0338430332478723 his__L_c + 0.359857578381222 ile__L_c + 0.665346023467785 leu__L_c + 0.635307828277366 lys__L_c + 0.228090028812583 met__L_c + 0.327816836844775 phe__L_c + 0.304987808500056 pro__L_c + 0.631102480950707 ser__L_c + 0.358856305208208 thr__L_c + 0.0578735894002076 trp__L_c + 0.27374808550202 tyr__L_c + 0.70439567721533 val__L_c --> 27.8293064688965 adp_c + 27.8293064688965 h_c + 27.8293064688965 pi_c + 0.2565662378531 ppi_c'\n",
    "ef1.genes.b3939.knock_out()\n",
    "medium = ef1.medium\n",
    "medium[\"EX_glc__D_e\"] = 0.0\n",
    "medium[\"EX_lcts_e\"] = 10.0\n",
    "medium[\"EX_met__L_e\"] = 10.0\n",
    "ef1.medium = medium\n",
    "ef1.objective = ef1.reactions.phage_M13\n",
    "solution = cobra.flux_analysis.flux_variability_analysis(ef1, ef1.reactions, fraction_of_optimum=0.95)\n",
    "virus_fva = pd.concat([virus_fva, solution])\n",
    "\n",
    "virus_fva[\"optimized\"] = \"virus\""
   ]
  },
  {
   "cell_type": "code",
   "execution_count": 26,
   "id": "a692adc5",
   "metadata": {},
   "outputs": [],
   "source": [
    "#plasmid only\n",
    "plasmid_fva = pd.DataFrame()\n",
    "ef1 = cobra.io.read_sbml_model(model_path)\n",
    "ef1.reactions.plasmid_F.reaction = '1.0487663835663 ala__L_c + 0.375189220845313 arg__L_c + 0.252042985698166 asn__L_c + 0.23012847099302 asp__L_c + 0.0617971010563441 cys__L_c + 31.4390293663471 atp_c + 0.000310535123271839 dctp_c + 0.000310535123271839 dgtp_c + 0.000307719504895013 datp_c + 0.000307719504895013 dttp_c + 0.239453533629087 gln__L_c + 0.166879939481303 glu__L_c + 0.550578201069248 gly_c + 31.4387216468422 h2o_c + 0.109480365927243 his__L_c + 0.303202311009479 ile__L_c + 0.955403496783467 leu__L_c + 0.318730982418103 lys__L_c + 0.425808509511056 met__L_c + 0.479268785743603 phe__L_c + 0.222207077389324 pro__L_c + 0.528621980342174 ser__L_c + 0.388434090062005 thr__L_c + 0.221056983156149 trp__L_c + 0.144291651462158 tyr__L_c + 0.838338349373724 val__L_c --> 31.4387216468422 adp_c + 31.4387216468422 h_c + 31.4387216468422 pi_c + 0.00123650405186351 ppi_c'\n",
    "ef1.reactions.phage_M13.reaction = '0.898142036193534 ala__L_c + 0.136473533481805 arg__L_c + 0.138976716414339 asn__L_c + 0.222182517091801 asp__L_c + 0.0345439244689821 cys__L_c + 27.9053031027283 atp_c + 0.0523065105582499 dctp_c + 0.0523065105582499 dgtp_c + 0.0759966338317605 dttp_c + 0.0759966338317605 datp_c + 0.250218165936192 gln__L_c + 0.24080619810986 glu__L_c + 0.454778275182947 gly_c + 27.8293064688965 h2o_c + 0.0338430332478723 his__L_c + 0.359857578381222 ile__L_c + 0.665346023467785 leu__L_c + 0.635307828277366 lys__L_c + 0.228090028812583 met__L_c + 0.327816836844775 phe__L_c + 0.304987808500056 pro__L_c + 0.631102480950707 ser__L_c + 0.358856305208208 thr__L_c + 0.0578735894002076 trp__L_c + 0.27374808550202 tyr__L_c + 0.70439567721533 val__L_c --> 27.8293064688965 adp_c + 27.8293064688965 h_c + 27.8293064688965 pi_c + 0.2565662378531 ppi_c'\n",
    "ef1.genes.b3939.knock_out()\n",
    "medium = ef1.medium\n",
    "medium[\"EX_glc__D_e\"] = 0.0\n",
    "medium[\"EX_lcts_e\"] = 10.0\n",
    "medium[\"EX_met__L_e\"] = 10.0\n",
    "ef1.medium = medium\n",
    "ef1.objective = ef1.reactions.plasmid_F\n",
    "solution = cobra.flux_analysis.flux_variability_analysis(ef1, ef1.reactions, fraction_of_optimum=0.95)\n",
    "plasmid_fva = pd.concat([plasmid_fva, solution])\n",
    "\n",
    "plasmid_fva[\"optimized\"] = \"plasmid\""
   ]
  },
  {
   "cell_type": "code",
   "execution_count": 27,
   "id": "356a99a2",
   "metadata": {},
   "outputs": [],
   "source": [
    "#plasmid with phage\n",
    "plasmidphage_fva = pd.DataFrame()\n",
    "ef1 = cobra.io.read_sbml_model(model_path)\n",
    "ef1.reactions.plasmid_F.reaction = '1.0487663835663 ala__L_c + 0.375189220845313 arg__L_c + 0.252042985698166 asn__L_c + 0.23012847099302 asp__L_c + 0.0617971010563441 cys__L_c + 31.4390293663471 atp_c + 0.000310535123271839 dctp_c + 0.000310535123271839 dgtp_c + 0.000307719504895013 datp_c + 0.000307719504895013 dttp_c + 0.239453533629087 gln__L_c + 0.166879939481303 glu__L_c + 0.550578201069248 gly_c + 31.4387216468422 h2o_c + 0.109480365927243 his__L_c + 0.303202311009479 ile__L_c + 0.955403496783467 leu__L_c + 0.318730982418103 lys__L_c + 0.425808509511056 met__L_c + 0.479268785743603 phe__L_c + 0.222207077389324 pro__L_c + 0.528621980342174 ser__L_c + 0.388434090062005 thr__L_c + 0.221056983156149 trp__L_c + 0.144291651462158 tyr__L_c + 0.838338349373724 val__L_c --> 31.4387216468422 adp_c + 31.4387216468422 h_c + 31.4387216468422 pi_c + 0.00123650405186351 ppi_c'\n",
    "ef1.reactions.phage_M13.reaction = '0.898142036193534 ala__L_c + 0.136473533481805 arg__L_c + 0.138976716414339 asn__L_c + 0.222182517091801 asp__L_c + 0.0345439244689821 cys__L_c + 27.9053031027283 atp_c + 0.0523065105582499 dctp_c + 0.0523065105582499 dgtp_c + 0.0759966338317605 dttp_c + 0.0759966338317605 datp_c + 0.250218165936192 gln__L_c + 0.24080619810986 glu__L_c + 0.454778275182947 gly_c + 27.8293064688965 h2o_c + 0.0338430332478723 his__L_c + 0.359857578381222 ile__L_c + 0.665346023467785 leu__L_c + 0.635307828277366 lys__L_c + 0.228090028812583 met__L_c + 0.327816836844775 phe__L_c + 0.304987808500056 pro__L_c + 0.631102480950707 ser__L_c + 0.358856305208208 thr__L_c + 0.0578735894002076 trp__L_c + 0.27374808550202 tyr__L_c + 0.70439567721533 val__L_c --> 27.8293064688965 adp_c + 27.8293064688965 h_c + 27.8293064688965 pi_c + 0.2565662378531 ppi_c'\n",
    "ef1.genes.b3939.knock_out()\n",
    "medium = ef1.medium\n",
    "medium[\"EX_glc__D_e\"] = 0.0\n",
    "medium[\"EX_lcts_e\"] = 10.0\n",
    "medium[\"EX_met__L_e\"] = 10.0\n",
    "ef1.medium = medium\n",
    "ef1.objective = ef1.reactions.phage_M13\n",
    "ef1.reactions.plasmid_F.lower_bound = 0.1\n",
    "solution = cobra.flux_analysis.flux_variability_analysis(ef1, ef1.reactions, fraction_of_optimum=0.95)\n",
    "plasmidphage_fva = pd.concat([plasmidphage_fva, solution])\n",
    "\n",
    "plasmidphage_fva[\"optimized\"] = \"virus with plasmid\""
   ]
  },
  {
   "cell_type": "code",
   "execution_count": 28,
   "id": "e5367099",
   "metadata": {},
   "outputs": [],
   "source": [
    "fva_fluxes_optimized = pd.concat([plasmidphage_fva, plasmid_fva, virus_fva, host_fva])"
   ]
  },
  {
   "cell_type": "code",
   "execution_count": 19,
   "id": "a9dd3acc-ef67-410a-b5ad-408cfc04196a",
   "metadata": {},
   "outputs": [
    {
     "name": "stdout",
     "output_type": "stream",
     "text": [
      "0.0\n",
      "0.1\n",
      "0.2\n",
      "0.30000000000000004\n",
      "0.4\n",
      "0.5\n",
      "0.6000000000000001\n",
      "0.7000000000000001\n",
      "0.8\n",
      "0.9\n",
      "1.0\n",
      "1.1\n",
      "1.2000000000000002\n",
      "1.3\n",
      "1.4000000000000001\n",
      "1.5\n",
      "1.6\n",
      "1.7000000000000002\n",
      "1.8\n",
      "1.9000000000000001\n",
      "2.0\n",
      "2.1\n",
      "2.2\n",
      "2.3000000000000003\n",
      "2.4000000000000004\n"
     ]
    }
   ],
   "source": [
    "fvarange_plasmid_fluxes = pd.DataFrame()\n",
    "for i in np.arange(0, maximized_plasmid_gluc, 0.1):\n",
    "    plasmidphage_fva = pd.DataFrame()\n",
    "    ef1 = cobra.io.read_sbml_model(model_path)\n",
    "    ef1.reactions.plasmid_F.reaction = '1.0487663835663 ala__L_c + 0.375189220845313 arg__L_c + 0.252042985698166 asn__L_c + 0.23012847099302 asp__L_c + 0.0617971010563441 cys__L_c + 31.4390293663471 atp_c + 0.000310535123271839 dctp_c + 0.000310535123271839 dgtp_c + 0.000307719504895013 datp_c + 0.000307719504895013 dttp_c + 0.239453533629087 gln__L_c + 0.166879939481303 glu__L_c + 0.550578201069248 gly_c + 31.4387216468422 h2o_c + 0.109480365927243 his__L_c + 0.303202311009479 ile__L_c + 0.955403496783467 leu__L_c + 0.318730982418103 lys__L_c + 0.425808509511056 met__L_c + 0.479268785743603 phe__L_c + 0.222207077389324 pro__L_c + 0.528621980342174 ser__L_c + 0.388434090062005 thr__L_c + 0.221056983156149 trp__L_c + 0.144291651462158 tyr__L_c + 0.838338349373724 val__L_c --> 31.4387216468422 adp_c + 31.4387216468422 h_c + 31.4387216468422 pi_c + 0.00123650405186351 ppi_c'\n",
    "    ef1.reactions.phage_M13.reaction = '0.898142036193534 ala__L_c + 0.136473533481805 arg__L_c + 0.138976716414339 asn__L_c + 0.222182517091801 asp__L_c + 0.0345439244689821 cys__L_c + 27.9053031027283 atp_c + 0.0523065105582499 dctp_c + 0.0523065105582499 dgtp_c + 0.0759966338317605 dttp_c + 0.0759966338317605 datp_c + 0.250218165936192 gln__L_c + 0.24080619810986 glu__L_c + 0.454778275182947 gly_c + 27.8293064688965 h2o_c + 0.0338430332478723 his__L_c + 0.359857578381222 ile__L_c + 0.665346023467785 leu__L_c + 0.635307828277366 lys__L_c + 0.228090028812583 met__L_c + 0.327816836844775 phe__L_c + 0.304987808500056 pro__L_c + 0.631102480950707 ser__L_c + 0.358856305208208 thr__L_c + 0.0578735894002076 trp__L_c + 0.27374808550202 tyr__L_c + 0.70439567721533 val__L_c --> 27.8293064688965 adp_c + 27.8293064688965 h_c + 27.8293064688965 pi_c + 0.2565662378531 ppi_c'\n",
    "    ef1.genes.b3939.knock_out()\n",
    "    medium = ef1.medium\n",
    "    medium[\"EX_glc__D_e\"] = 0.0\n",
    "    medium[\"EX_lcts_e\"] = 10.0\n",
    "    medium[\"EX_met__L_e\"] = 10.0\n",
    "    ef1.medium = medium\n",
    "    ef1.objective = ef1.reactions.phage_M13\n",
    "    ef1.reactions.plasmid_F.lower_bound = i\n",
    "    solution = cobra.flux_analysis.flux_variability_analysis(ef1, ef1.reactions, fraction_of_optimum=0.95)\n",
    "    plasmidphage_fva = pd.concat([plasmidphage_fva, solution])\n",
    "    plasmidphage_fva[\"optimized\"] = \"virus with plasmid\"\n",
    "    plasmidphage_fva[\"plasmid_bound\"] = i\n",
    "    fvarange_plasmid_fluxes = pd.concat([fvarange_plasmid_fluxes, plasmidphage_fva])"
   ]
  },
  {
   "cell_type": "markdown",
   "id": "8bc0c4d0",
   "metadata": {},
   "source": [
    "## Subprocesses for categorization"
   ]
  },
  {
   "cell_type": "code",
   "execution_count": null,
   "id": "c0099f83",
   "metadata": {},
   "outputs": [],
   "source": [
    "subprocesses = pd.DataFrame()\n",
    "for x in ef1.groups:\n",
    "    temp = pd.DataFrame()\n",
    "    temp[\"reaction\"] = [x.members[i].id for i in range(0, len(x.members))]\n",
    "    temp[\"group_name\"] = x.name\n",
    "    temp[\"id\"] = x.id\n",
    "    subprocesses = subprocesses.append(temp)"
   ]
  },
  {
   "cell_type": "markdown",
   "id": "1b5c2153",
   "metadata": {},
   "source": [
    "# Finally, save and export all data files for analysis in R."
   ]
  },
  {
   "cell_type": "code",
   "execution_count": 29,
   "id": "8944fa73",
   "metadata": {},
   "outputs": [],
   "source": [
    "pfba_optimized.to_csv(export_path + 'pfba_fluxes_optimized.csv')\n",
    "fva_fluxes_optimized.to_csv(export_path + 'fva_fluxes_optimized.csv')\n",
    "subprocesses.to_csv(export_path + 'subprocesses.csv') # cellular subprocesses\n",
    "df.to_csv(export_path + 'core_reactions.csv') #core biomass metabolites\n",
    "range_plasmid_fluxes.to_csv(export_path + 'pfba_fluxes_virusplasmid_plasmidrange_virusoptimized.csv') # change plasmid production range while maximizing phage\n",
    "fvarange_plasmid_fluxes.to_csv(export_path + 'fva_fluxes_virusplasmid_plasmidrange_virusoptimized.csv') # change plasmid production range while maximizing phage"
   ]
  },
  {
   "cell_type": "markdown",
   "id": "3b9e65c4-1e9d-4a7b-8e25-c40ef5321661",
   "metadata": {},
   "source": [
    "### Unused code"
   ]
  },
  {
   "cell_type": "markdown",
   "id": "3268ebf1-f86c-4f79-bcd6-c7380f42d38d",
   "metadata": {},
   "source": [
    "### Get bacterial fluxes using FVA while changing the lower bound of parasite production"
   ]
  },
  {
   "cell_type": "code",
   "execution_count": null,
   "id": "8eeac543-8afe-45d6-809d-05deddfe19e2",
   "metadata": {},
   "outputs": [],
   "source": [
    "def create_solution_frame(model, lower_bound):\n",
    "    solution = cobra.flux_analysis.flux_variability_analysis(model, model.reactions, fraction_of_optimum=0.95)\n",
    "    solution[\"lower_bound\"] = lower_bound\n",
    "    return(solution)"
   ]
  },
  {
   "cell_type": "code",
   "execution_count": null,
   "id": "16715225-a400-485e-85c3-946ba1a94fc1",
   "metadata": {},
   "outputs": [],
   "source": [
    "#virus only\n",
    "fluxes_fva_virus = pd.DataFrame()\n",
    "ef1 = cobra.io.read_sbml_model(model_path)\n",
    "ef1.genes.b3939.knock_out()\n",
    "medium = ef1.medium\n",
    "medium[\"EX_glc__D_e\"] = 0.0\n",
    "medium[\"EX_lcts_e\"] = 10.0\n",
    "medium[\"EX_met__L_e\"] = 10.0\n",
    "ef1.medium = medium\n",
    "ef1.objective = ef1.reactions.get_by_id(\"BIOMASS_Ec_iJO1366_core_53p95M\")\n",
    "for j in np.arange(0, maximized_f1_gluc, 0.3):\n",
    "    ef1.reactions.phage_M13.lower_bound = j\n",
    "    solution = create_solution_frame(ef1, j)\n",
    "    fluxes_fva_virus = pd.concat([fluxes_fva_virus, solution])\n",
    "    print(j)\n",
    "\n",
    "fluxes_fva_virus[\"parasite\"] = \"virus\""
   ]
  },
  {
   "cell_type": "code",
   "execution_count": null,
   "id": "3c79eb19-d26f-4573-a220-b102317096bf",
   "metadata": {},
   "outputs": [],
   "source": [
    "#plasmid only\n",
    "fluxes_fva_plasmid = pd.DataFrame()\n",
    "ef1 = cobra.io.read_sbml_model(model_path)\n",
    "ef1.genes.b3939.knock_out()\n",
    "medium = ef1.medium\n",
    "medium[\"EX_glc__D_e\"] = 0.0\n",
    "medium[\"EX_lcts_e\"] = 10.0\n",
    "medium[\"EX_met__L_e\"] = 10.0\n",
    "ef1.medium = medium\n",
    "ef1.objective = ef1.reactions.get_by_id(\"BIOMASS_Ec_iJO1366_core_53p95M\")\n",
    "for j in np.arange(0, maximized_plasmid_gluc, 0.3):\n",
    "    ef1.reactions.plasmid_F.lower_bound = j\n",
    "    solution = create_solution_frame(ef1, j)\n",
    "    fluxes_fva_plasmid = pd.concat([fluxes_fva_plasmid, solution])\n",
    "    print(j)\n",
    "\n",
    "fluxes_fva_plasmid[\"parasite\"] = \"plasmid\""
   ]
  },
  {
   "cell_type": "code",
   "execution_count": null,
   "id": "b9e57fcf-58ac-43b3-8c0a-3343ef2b4bae",
   "metadata": {},
   "outputs": [],
   "source": [
    "#plasmid with phage\n",
    "fluxes_fva_plasmidphage = pd.DataFrame()\n",
    "ef1 = cobra.io.read_sbml_model(model_path)\n",
    "ef1.genes.b3939.knock_out()\n",
    "medium = ef1.medium\n",
    "medium[\"EX_glc__D_e\"] = 0.0\n",
    "medium[\"EX_lcts_e\"] = 10.0\n",
    "medium[\"EX_met__L_e\"] = 10.0\n",
    "ef1.medium = medium\n",
    "ef1.objective = ef1.reactions.get_by_id(\"BIOMASS_Ec_iJO1366_core_53p95M\")\n",
    "for j in np.arange(0, maximized_phageplasmid_gluc, 0.3):\n",
    "    ef1.reactions.plasmid_F.lower_bound = 0.1\n",
    "    ef1.reactions.phage_M13.lower_bound = j\n",
    "    solution = create_solution_frame(ef1, j)\n",
    "    fluxes_fva_plasmidphage = pd.concat([fluxes_fva_plasmidphage, solution])\n",
    "    print(j)\n",
    "\n",
    "fluxes_fva_plasmidphage[\"parasite\"] = \"virus with plasmid\""
   ]
  },
  {
   "cell_type": "code",
   "execution_count": null,
   "id": "5f40e781-8696-4ab8-8bc2-7de9087635f8",
   "metadata": {},
   "outputs": [],
   "source": [
    "fva_fluxes = pd.concat([fluxes_fva_plasmidphage, fluxes_fva_plasmid, fluxes_fva_virus])"
   ]
  },
  {
   "cell_type": "markdown",
   "id": "c83227f3-9bff-4e93-b1e3-74bff0a18cb1",
   "metadata": {},
   "source": [
    "### Get bacterial biomass using pFBA while changing the lower bound of parasite production"
   ]
  },
  {
   "cell_type": "code",
   "execution_count": null,
   "id": "57807eeb-1169-4681-91f5-6b53e6aa48ac",
   "metadata": {},
   "outputs": [],
   "source": [
    "#virus only\n",
    "results = {key: {} for key in np.arange(0, maximized_f1_gluc, 0.1)}\n",
    "ef1 = cobra.io.read_sbml_model(model_path)\n",
    "ef1.reactions.plasmid_F.reaction = '1.0487663835663 ala__L_c + 0.375189220845313 arg__L_c + 0.252042985698166 asn__L_c + 0.23012847099302 asp__L_c + 0.0617971010563441 cys__L_c + 31.4390293663471 atp_c + 0.000310535123271839 dctp_c + 0.000310535123271839 dgtp_c + 0.000307719504895013 datp_c + 0.000307719504895013 dttp_c + 0.239453533629087 gln__L_c + 0.166879939481303 glu__L_c + 0.550578201069248 gly_c + 31.4387216468422 h2o_c + 0.109480365927243 his__L_c + 0.303202311009479 ile__L_c + 0.955403496783467 leu__L_c + 0.318730982418103 lys__L_c + 0.425808509511056 met__L_c + 0.479268785743603 phe__L_c + 0.222207077389324 pro__L_c + 0.528621980342174 ser__L_c + 0.388434090062005 thr__L_c + 0.221056983156149 trp__L_c + 0.144291651462158 tyr__L_c + 0.838338349373724 val__L_c --> 31.4387216468422 adp_c + 31.4387216468422 h_c + 31.4387216468422 pi_c + 0.00123650405186351 ppi_c'\n",
    "ef1.reactions.phage_M13.reaction = '0.898142036193534 ala__L_c + 0.136473533481805 arg__L_c + 0.138976716414339 asn__L_c + 0.222182517091801 asp__L_c + 0.0345439244689821 cys__L_c + 27.9053031027283 atp_c + 0.0523065105582499 dctp_c + 0.0523065105582499 dgtp_c + 0.0759966338317605 dttp_c + 0.0759966338317605 datp_c + 0.250218165936192 gln__L_c + 0.24080619810986 glu__L_c + 0.454778275182947 gly_c + 27.8293064688965 h2o_c + 0.0338430332478723 his__L_c + 0.359857578381222 ile__L_c + 0.665346023467785 leu__L_c + 0.635307828277366 lys__L_c + 0.228090028812583 met__L_c + 0.327816836844775 phe__L_c + 0.304987808500056 pro__L_c + 0.631102480950707 ser__L_c + 0.358856305208208 thr__L_c + 0.0578735894002076 trp__L_c + 0.27374808550202 tyr__L_c + 0.70439567721533 val__L_c --> 27.8293064688965 adp_c + 27.8293064688965 h_c + 27.8293064688965 pi_c + 0.2565662378531 ppi_c'\n",
    "ef1.genes.b3939.knock_out()\n",
    "medium = ef1.medium\n",
    "medium[\"EX_glc__D_e\"] = 0.0\n",
    "medium[\"EX_lcts_e\"] = 10.0\n",
    "medium[\"EX_met__L_e\"] = 10.0\n",
    "ef1.medium = medium\n",
    "ef1.objective = ef1.reactions.get_by_id(\"BIOMASS_Ec_iJO1366_core_53p95M\")\n",
    "for i in np.arange(0, maximized_f1_gluc, 0.1):\n",
    "    ef1.reactions.phage_M13.lower_bound = i\n",
    "    solution = cobra.flux_analysis.pfba(ef1)\n",
    "    results[i] = solution.fluxes.BIOMASS_Ec_iJO1366_core_53p95M\n",
    "\n",
    "pFBA_virus = pd.DataFrame(results.items(), columns=['lower_bound', 'bacterial_biomass'])\n",
    "pFBA_virus[\"parasite\"] = \"virus\""
   ]
  },
  {
   "cell_type": "code",
   "execution_count": null,
   "id": "d09e3a0d-d7bf-4d1e-a58f-fd13e8a2d0fc",
   "metadata": {},
   "outputs": [],
   "source": [
    "#plasmid only\n",
    "results = {key: {} for key in np.arange(0, maximized_plasmid_gluc, 0.1)}\n",
    "ef1 = cobra.io.read_sbml_model(model_path)\n",
    "ef1.reactions.plasmid_F.reaction = '1.0487663835663 ala__L_c + 0.375189220845313 arg__L_c + 0.252042985698166 asn__L_c + 0.23012847099302 asp__L_c + 0.0617971010563441 cys__L_c + 31.4390293663471 atp_c + 0.000310535123271839 dctp_c + 0.000310535123271839 dgtp_c + 0.000307719504895013 datp_c + 0.000307719504895013 dttp_c + 0.239453533629087 gln__L_c + 0.166879939481303 glu__L_c + 0.550578201069248 gly_c + 31.4387216468422 h2o_c + 0.109480365927243 his__L_c + 0.303202311009479 ile__L_c + 0.955403496783467 leu__L_c + 0.318730982418103 lys__L_c + 0.425808509511056 met__L_c + 0.479268785743603 phe__L_c + 0.222207077389324 pro__L_c + 0.528621980342174 ser__L_c + 0.388434090062005 thr__L_c + 0.221056983156149 trp__L_c + 0.144291651462158 tyr__L_c + 0.838338349373724 val__L_c --> 31.4387216468422 adp_c + 31.4387216468422 h_c + 31.4387216468422 pi_c + 0.00123650405186351 ppi_c'\n",
    "ef1.reactions.phage_M13.reaction = '0.898142036193534 ala__L_c + 0.136473533481805 arg__L_c + 0.138976716414339 asn__L_c + 0.222182517091801 asp__L_c + 0.0345439244689821 cys__L_c + 27.9053031027283 atp_c + 0.0523065105582499 dctp_c + 0.0523065105582499 dgtp_c + 0.0759966338317605 dttp_c + 0.0759966338317605 datp_c + 0.250218165936192 gln__L_c + 0.24080619810986 glu__L_c + 0.454778275182947 gly_c + 27.8293064688965 h2o_c + 0.0338430332478723 his__L_c + 0.359857578381222 ile__L_c + 0.665346023467785 leu__L_c + 0.635307828277366 lys__L_c + 0.228090028812583 met__L_c + 0.327816836844775 phe__L_c + 0.304987808500056 pro__L_c + 0.631102480950707 ser__L_c + 0.358856305208208 thr__L_c + 0.0578735894002076 trp__L_c + 0.27374808550202 tyr__L_c + 0.70439567721533 val__L_c --> 27.8293064688965 adp_c + 27.8293064688965 h_c + 27.8293064688965 pi_c + 0.2565662378531 ppi_c'\n",
    "ef1.genes.b3939.knock_out()\n",
    "medium = ef1.medium\n",
    "medium[\"EX_glc__D_e\"] = 0.0\n",
    "medium[\"EX_lcts_e\"] = 10.0\n",
    "medium[\"EX_met__L_e\"] = 10.0\n",
    "ef1.medium = medium\n",
    "ef1.objective = ef1.reactions.get_by_id(\"BIOMASS_Ec_iJO1366_core_53p95M\")\n",
    "for i in np.arange(0, maximized_plasmid_gluc, 0.1):\n",
    "    ef1.reactions.plasmid_F.lower_bound = i\n",
    "    solution = cobra.flux_analysis.pfba(ef1)\n",
    "    results[i] = solution.fluxes.BIOMASS_Ec_iJO1366_core_53p95M\n",
    "\n",
    "pFBA_plasmid = pd.DataFrame(results.items(), columns=['lower_bound', 'bacterial_biomass'])\n",
    "pFBA_plasmid[\"parasite\"] = \"plasmid\""
   ]
  },
  {
   "cell_type": "code",
   "execution_count": null,
   "id": "77feb945-4e32-4f86-8368-f758a6cad3b5",
   "metadata": {},
   "outputs": [],
   "source": [
    "#plasmid and phage only\n",
    "results = {key: {} for key in np.arange(0, maximized_phageplasmid_gluc, 0.1)}\n",
    "ef1 = cobra.io.read_sbml_model(model_path)\n",
    "ef1.reactions.plasmid_F.reaction = '1.0487663835663 ala__L_c + 0.375189220845313 arg__L_c + 0.252042985698166 asn__L_c + 0.23012847099302 asp__L_c + 0.0617971010563441 cys__L_c + 31.4390293663471 atp_c + 0.000310535123271839 dctp_c + 0.000310535123271839 dgtp_c + 0.000307719504895013 datp_c + 0.000307719504895013 dttp_c + 0.239453533629087 gln__L_c + 0.166879939481303 glu__L_c + 0.550578201069248 gly_c + 31.4387216468422 h2o_c + 0.109480365927243 his__L_c + 0.303202311009479 ile__L_c + 0.955403496783467 leu__L_c + 0.318730982418103 lys__L_c + 0.425808509511056 met__L_c + 0.479268785743603 phe__L_c + 0.222207077389324 pro__L_c + 0.528621980342174 ser__L_c + 0.388434090062005 thr__L_c + 0.221056983156149 trp__L_c + 0.144291651462158 tyr__L_c + 0.838338349373724 val__L_c --> 31.4387216468422 adp_c + 31.4387216468422 h_c + 31.4387216468422 pi_c + 0.00123650405186351 ppi_c'\n",
    "ef1.reactions.phage_M13.reaction = '0.898142036193534 ala__L_c + 0.136473533481805 arg__L_c + 0.138976716414339 asn__L_c + 0.222182517091801 asp__L_c + 0.0345439244689821 cys__L_c + 27.9053031027283 atp_c + 0.0523065105582499 dctp_c + 0.0523065105582499 dgtp_c + 0.0759966338317605 dttp_c + 0.0759966338317605 datp_c + 0.250218165936192 gln__L_c + 0.24080619810986 glu__L_c + 0.454778275182947 gly_c + 27.8293064688965 h2o_c + 0.0338430332478723 his__L_c + 0.359857578381222 ile__L_c + 0.665346023467785 leu__L_c + 0.635307828277366 lys__L_c + 0.228090028812583 met__L_c + 0.327816836844775 phe__L_c + 0.304987808500056 pro__L_c + 0.631102480950707 ser__L_c + 0.358856305208208 thr__L_c + 0.0578735894002076 trp__L_c + 0.27374808550202 tyr__L_c + 0.70439567721533 val__L_c --> 27.8293064688965 adp_c + 27.8293064688965 h_c + 27.8293064688965 pi_c + 0.2565662378531 ppi_c'\n",
    "ef1.genes.b3939.knock_out()\n",
    "medium = ef1.medium\n",
    "medium[\"EX_glc__D_e\"] = 0.0\n",
    "medium[\"EX_lcts_e\"] = 10.0\n",
    "medium[\"EX_met__L_e\"] = 10.0\n",
    "ef1.medium = medium\n",
    "ef1.objective = ef1.reactions.get_by_id(\"BIOMASS_Ec_iJO1366_core_53p95M\")\n",
    "ef1.reactions.plasmid_F.lower_bound = 0.1\n",
    "for i in np.arange(0, maximized_phageplasmid_gluc, 0.1):\n",
    "    ef1.reactions.phage_M13.lower_bound = i\n",
    "    solution = cobra.flux_analysis.pfba(ef1)\n",
    "    results[i] = solution.fluxes.BIOMASS_Ec_iJO1366_core_53p95M\n",
    "\n",
    "pFBA_plasmidphage = pd.DataFrame(results.items(), columns=['lower_bound', 'bacterial_biomass'])\n",
    "pFBA_plasmidphage[\"parasite\"] = \"virus with plasmid\""
   ]
  },
  {
   "cell_type": "code",
   "execution_count": null,
   "id": "4f542cc7-c734-4df1-bb93-6c4335e7f75f",
   "metadata": {},
   "outputs": [],
   "source": [
    "pfba_biomass = pd.concat([pFBA_plasmidphage, pFBA_plasmid, pFBA_virus])"
   ]
  },
  {
   "cell_type": "markdown",
   "id": "fdcda8ac-a811-4a1b-b154-528133abe033",
   "metadata": {},
   "source": [
    "### Get bacterial fluxes using pFBA while changing the lower bound of parasite production"
   ]
  },
  {
   "cell_type": "code",
   "execution_count": null,
   "id": "4f6036cf-a60f-462d-a2d0-878fe95070cf",
   "metadata": {},
   "outputs": [],
   "source": [
    "def create_solution_frame(model, lower_bound):\n",
    "    solution = pd.DataFrame(cobra.flux_analysis.pfba(model).fluxes)\n",
    "    solution[\"lower_bound\"] = lower_bound\n",
    "    return(solution)"
   ]
  },
  {
   "cell_type": "code",
   "execution_count": null,
   "id": "bd71357a-e066-4d98-b4be-951daac80ffe",
   "metadata": {},
   "outputs": [],
   "source": [
    "#virus only\n",
    "fluxes_pfba_virus = pd.DataFrame()\n",
    "ef1 = cobra.io.read_sbml_model(model_path)\n",
    "ef1.genes.b3939.knock_out()\n",
    "medium = ef1.medium\n",
    "medium[\"EX_glc__D_e\"] = 0.0\n",
    "medium[\"EX_lcts_e\"] = 10.0\n",
    "medium[\"EX_met__L_e\"] = 10.0\n",
    "ef1.medium = medium\n",
    "ef1.objective = ef1.reactions.get_by_id(\"BIOMASS_Ec_iJO1366_core_53p95M\")\n",
    "for j in np.arange(0, maximized_f1_gluc, 0.1):\n",
    "    ef1.reactions.phage_M13.lower_bound = j\n",
    "    solution = create_solution_frame(ef1, j)\n",
    "    fluxes_pfba_virus = pd.concat([fluxes_pfba_virus, solution])\n",
    "\n",
    "fluxes_pfba_virus[\"parasite\"] = \"virus\""
   ]
  },
  {
   "cell_type": "code",
   "execution_count": null,
   "id": "250f6a34-a543-47fb-87fa-fc4a11e1dbf1",
   "metadata": {},
   "outputs": [],
   "source": [
    "#plasmid only\n",
    "fluxes_pfba_plasmid = pd.DataFrame()\n",
    "ef1 = cobra.io.read_sbml_model(model_path)\n",
    "ef1.genes.b3939.knock_out()\n",
    "medium = ef1.medium\n",
    "medium[\"EX_glc__D_e\"] = 0.0\n",
    "medium[\"EX_lcts_e\"] = 10.0\n",
    "medium[\"EX_met__L_e\"] = 10.0\n",
    "ef1.medium = medium\n",
    "ef1.objective = ef1.reactions.get_by_id(\"BIOMASS_Ec_iJO1366_core_53p95M\")\n",
    "for j in np.arange(0, maximized_plasmid_gluc, 0.1):\n",
    "    ef1.reactions.plasmid_F.lower_bound = j\n",
    "    solution = create_solution_frame(ef1, j)\n",
    "    fluxes_pfba_plasmid = pd.concat([fluxes_pfba_plasmid, solution])\n",
    "\n",
    "fluxes_pfba_plasmid[\"parasite\"] = \"plasmid\""
   ]
  },
  {
   "cell_type": "code",
   "execution_count": null,
   "id": "81c623e7-8d20-42d0-8d56-8857e8993923",
   "metadata": {},
   "outputs": [],
   "source": [
    "#plasmid with phage\n",
    "fluxes_pfba_plasmidphage = pd.DataFrame()\n",
    "ef1 = cobra.io.read_sbml_model(model_path)\n",
    "ef1.genes.b3939.knock_out()\n",
    "medium = ef1.medium\n",
    "medium[\"EX_glc__D_e\"] = 0.0\n",
    "medium[\"EX_lcts_e\"] = 10.0\n",
    "medium[\"EX_met__L_e\"] = 10.0\n",
    "ef1.medium = medium\n",
    "ef1.objective = ef1.reactions.get_by_id(\"BIOMASS_Ec_iJO1366_core_53p95M\")\n",
    "for j in np.arange(0, maximized_phageplasmid_gluc, 0.1):\n",
    "    ef1.reactions.plasmid_F.lower_bound = 0.1\n",
    "    ef1.reactions.phage_M13.lower_bound = j\n",
    "    solution = create_solution_frame(ef1, j)\n",
    "    fluxes_pfba_plasmidphage = pd.concat([fluxes_pfba_plasmidphage, solution])\n",
    "\n",
    "fluxes_pfba_plasmidphage[\"parasite\"] = \"virus with plasmid\""
   ]
  },
  {
   "cell_type": "code",
   "execution_count": null,
   "id": "16f3439d-c062-4d48-ac50-b9b978b1b97e",
   "metadata": {},
   "outputs": [],
   "source": [
    "pfba_fluxes = pd.concat([fluxes_pfba_plasmidphage, fluxes_pfba_plasmid, fluxes_pfba_virus])"
   ]
  },
  {
   "cell_type": "code",
   "execution_count": null,
   "id": "2b0dfbed-cf17-49ef-9a87-3cc484ae913b",
   "metadata": {},
   "outputs": [],
   "source": [
    "pfba_biomass.to_csv(export_path + 'pfba_biomass_ranges.csv')\n",
    "pfba_fluxes.to_csv(export_path + 'pfba_fluxes_ranges.csv')\n",
    "fva_fluxes.to_csv(export_path + 'fva_fluxes_ranges.csv')"
   ]
  }
 ],
 "metadata": {
  "kernelspec": {
   "display_name": "Python 3 (ipykernel)",
   "language": "python",
   "name": "python3"
  },
  "language_info": {
   "codemirror_mode": {
    "name": "ipython",
    "version": 3
   },
   "file_extension": ".py",
   "mimetype": "text/x-python",
   "name": "python",
   "nbconvert_exporter": "python",
   "pygments_lexer": "ipython3",
   "version": "3.8.19"
  }
 },
 "nbformat": 4,
 "nbformat_minor": 5
}
