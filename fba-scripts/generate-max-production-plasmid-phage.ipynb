{
 "cells": [
  {
   "cell_type": "code",
   "execution_count": 1,
   "id": "f6aa88a8",
   "metadata": {},
   "outputs": [],
   "source": [
    "#are you connected to the campus vpn full tunneling? if not, forget about it\n",
    "import cobra\n",
    "import numpy as np\n",
    "import pandas as pd\n",
    "import matplotlib.pyplot as plt\n",
    "import cometspy as c\n",
    "import os"
   ]
  },
  {
   "cell_type": "code",
   "execution_count": 2,
   "id": "8c9ff84a",
   "metadata": {},
   "outputs": [],
   "source": [
    "E_WT_infected = cobra.io.read_sbml_model(\"../models/iJO1366_plasmid_phage.xml\")\n",
    "S0 = cobra.io.read_sbml_model(\"../models/STM_v1_0_S0.xml\")\n",
    "M0 = cobra.io.read_sbml_model(\"../models/jmc_AM1_KO_renamed.xml\")\n",
    "\n",
    "E0_infected = E_WT_infected.copy()\n",
    "E0_infected.genes.b3939.knock_out()\n",
    "#E0_infected.reactions.plasmid_F.reaction = '1.0487663835663 ala__L_c + 0.375189220845313 arg__L_c + 0.252042985698166 asn__L_c + 0.23012847099302 asp__L_c + 0.0617971010563441 cys__L_c + 31.4390293663471 atp_c + 0.000310535123271839 dctp_c + 0.000310535123271839 dgtp_c + 0.000307719504895013 datp_c + 0.000307719504895013 dttp_c + 0.239453533629087 gln__L_c + 0.166879939481303 glu__L_c + 0.550578201069248 gly_c + 31.4387216468422 h2o_c + 0.109480365927243 his__L_c + 0.303202311009479 ile__L_c + 0.955403496783467 leu__L_c + 0.318730982418103 lys__L_c + 0.425808509511056 met__L_c + 0.479268785743603 phe__L_c + 0.222207077389324 pro__L_c + 0.528621980342174 ser__L_c + 0.388434090062005 thr__L_c + 0.221056983156149 trp__L_c + 0.144291651462158 tyr__L_c + 0.838338349373724 val__L_c --> 31.4387216468422 adp_c + 31.4387216468422 h_c + 31.4387216468422 pi_c + 0.00123650405186351 ppi_c'\n",
    "#E0_infected.reactions.phage_M13.reaction = '0.898142036193534 ala__L_c + 0.136473533481805 arg__L_c + 0.138976716414339 asn__L_c + 0.222182517091801 asp__L_c + 0.0345439244689821 cys__L_c + 27.9053031027283 atp_c + 0.0523065105582499 dctp_c + 0.0523065105582499 dgtp_c + 0.0759966338317605 dttp_c + 0.0759966338317605 datp_c + 0.250218165936192 gln__L_c + 0.24080619810986 glu__L_c + 0.454778275182947 gly_c + 27.8293064688965 h2o_c + 0.0338430332478723 his__L_c + 0.359857578381222 ile__L_c + 0.665346023467785 leu__L_c + 0.635307828277366 lys__L_c + 0.228090028812583 met__L_c + 0.327816836844775 phe__L_c + 0.304987808500056 pro__L_c + 0.631102480950707 ser__L_c + 0.358856305208208 thr__L_c + 0.0578735894002076 trp__L_c + 0.27374808550202 tyr__L_c + 0.70439567721533 val__L_c --> 27.8293064688965 adp_c + 27.8293064688965 h_c + 27.8293064688965 pi_c + 0.2565662378531 ppi_c'"
   ]
  },
  {
   "cell_type": "markdown",
   "id": "986628b7",
   "metadata": {},
   "source": [
    "# ESM"
   ]
  },
  {
   "cell_type": "code",
   "execution_count": 3,
   "id": "165f2e75",
   "metadata": {},
   "outputs": [
    {
     "name": "stdout",
     "output_type": "stream",
     "text": [
      "\n",
      "Running COMETS simulation ...\n",
      "\n",
      "Debug Here ...\n",
      "Done!\n"
     ]
    }
   ],
   "source": [
    "#phage bound only\n",
    "E0_infected.objective = E0_infected.reactions.phage_M13\n",
    "\n",
    "E_infected = c.model(E0_infected)\n",
    "S = c.model(S0)\n",
    "M = c.model(M0)\n",
    "E_infected.open_exchanges()\n",
    "S.open_exchanges()\n",
    "M.open_exchanges()\n",
    "\n",
    "E_infected.initial_pop = [0, 0, 1.e-8]\n",
    "S.initial_pop = [0, 0, 1.e-8]\n",
    "M.initial_pop = [0, 0, 1.e-8]\n",
    "E_infected.obj_style = \"MAXIMIZE_OBJECTIVE_FLUX\"\n",
    "S.obj_style =  \"MAXIMIZE_OBJECTIVE_FLUX\"\n",
    "M.obj_style =  \"MAXIMIZE_OBJECTIVE_FLUX\"\n",
    "\n",
    "l = c.layout([E_infected,S,M])\n",
    "base_nutrients = [\"ca2_e\", \"cl_e\", \"cobalt2_e\", \"cu2_e\",\"fe2_e\", \"fe3_e\", \"k_e\",\"mg2_e\",\n",
    "              \"mn2_e\", \"mobd_e\", \"ni2_e\", \"o2_e\", \"pi_e\", \"so4_e\", \"zn2_e\"]\n",
    "for nutrient in base_nutrients:\n",
    "    l.set_specific_metabolite(nutrient, 1000)\n",
    "l.set_specific_metabolite(\"lcts_e\", 0.000278)\n",
    "l.set_specific_metabolite(\"mea_e\", 0.0015)\n",
    "\n",
    "p = c.params()\n",
    "p.set_param(\"defaultKm\", 0.00001) # M \n",
    "p.set_param(\"defaultVmax\", 10) #mmol/gDw/hr\n",
    "p.set_param(\"maxCycles\", 200)\n",
    "p.set_param(\"timeStep\", 1)\n",
    "p.set_param('writeMediaLog', True)\n",
    "p.set_param('MediaLogRate', 1)\n",
    "p.set_param('writeFluxLog', True)\n",
    "p.set_param('FluxLogRate', 1)\n",
    "p.set_param(\"totalBiomassLogRate\", 1)\n",
    "\n",
    "sim = c.comets(l, p)\n",
    "sim.run()\n",
    "\n",
    "ESM_bound_phage = max(sim.fluxes_by_species[\"iJO1366\"][\"phage_M13\"])"
   ]
  },
  {
   "cell_type": "code",
   "execution_count": 4,
   "id": "ec711087",
   "metadata": {},
   "outputs": [
    {
     "name": "stdout",
     "output_type": "stream",
     "text": [
      "\n",
      "Running COMETS simulation ...\n",
      "\n",
      "Debug Here ...\n",
      "Done!\n"
     ]
    }
   ],
   "source": [
    "#plasmid bound only\n",
    "E0_infected.objective = E0_infected.reactions.plasmid_F\n",
    "\n",
    "E_infected = c.model(E0_infected)\n",
    "S = c.model(S0)\n",
    "M = c.model(M0)\n",
    "E_infected.open_exchanges()\n",
    "S.open_exchanges()\n",
    "M.open_exchanges()\n",
    "\n",
    "E_infected.initial_pop = [0, 0, 1.e-8]\n",
    "S.initial_pop = [0, 0, 1.e-8]\n",
    "M.initial_pop = [0, 0, 1.e-8]\n",
    "E_infected.obj_style = \"MAXIMIZE_OBJECTIVE_FLUX\"\n",
    "S.obj_style =  \"MAXIMIZE_OBJECTIVE_FLUX\"\n",
    "M.obj_style =  \"MAXIMIZE_OBJECTIVE_FLUX\"\n",
    "\n",
    "l = c.layout([E_infected,S,M])\n",
    "base_nutrients = [\"ca2_e\", \"cl_e\", \"cobalt2_e\", \"cu2_e\",\"fe2_e\", \"fe3_e\", \"k_e\",\"mg2_e\",\n",
    "              \"mn2_e\", \"mobd_e\", \"ni2_e\", \"o2_e\", \"pi_e\", \"so4_e\", \"zn2_e\"]\n",
    "for nutrient in base_nutrients:\n",
    "    l.set_specific_metabolite(nutrient, 1000)\n",
    "l.set_specific_metabolite(\"lcts_e\", 0.000278)\n",
    "l.set_specific_metabolite(\"mea_e\", 0.0015)\n",
    "\n",
    "p = c.params()\n",
    "p.set_param(\"defaultKm\", 0.00001) # M \n",
    "p.set_param(\"defaultVmax\", 10) #mmol/gDw/hr\n",
    "p.set_param(\"maxCycles\", 200)\n",
    "p.set_param(\"timeStep\", 1)\n",
    "p.set_param('writeMediaLog', True)\n",
    "p.set_param('MediaLogRate', 1)\n",
    "p.set_param('writeFluxLog', True)\n",
    "p.set_param('FluxLogRate', 1)\n",
    "p.set_param(\"totalBiomassLogRate\", 1)\n",
    "\n",
    "sim = c.comets(l, p)\n",
    "sim.run()\n",
    "\n",
    "ESM_bound_plasmid = max(sim.fluxes_by_species[\"iJO1366\"][\"plasmid_F\"])"
   ]
  },
  {
   "cell_type": "code",
   "execution_count": 5,
   "id": "aca18faa",
   "metadata": {},
   "outputs": [
    {
     "name": "stdout",
     "output_type": "stream",
     "text": [
      "\n",
      "Running COMETS simulation ...\n",
      "\n",
      "Debug Here ...\n",
      "Done!\n"
     ]
    }
   ],
   "source": [
    "#phage and plasmid bound\n",
    "E0_infected.objective = E0_infected.reactions.phage_M13\n",
    "E0_infected.reactions.plasmid_F.lower_bound = 0.3\n",
    "\n",
    "E_infected = c.model(E0_infected)\n",
    "S = c.model(S0)\n",
    "M = c.model(M0)\n",
    "E_infected.open_exchanges()\n",
    "S.open_exchanges()\n",
    "M.open_exchanges()\n",
    "\n",
    "E_infected.initial_pop = [0, 0, 1.e-8]\n",
    "S.initial_pop = [0, 0, 1.e-8]\n",
    "M.initial_pop = [0, 0, 1.e-8]\n",
    "E_infected.obj_style = \"MAXIMIZE_OBJECTIVE_FLUX\"\n",
    "S.obj_style =  \"MAXIMIZE_OBJECTIVE_FLUX\"\n",
    "M.obj_style =  \"MAXIMIZE_OBJECTIVE_FLUX\"\n",
    "\n",
    "l = c.layout([E_infected,S,M])\n",
    "base_nutrients = [\"ca2_e\", \"cl_e\", \"cobalt2_e\", \"cu2_e\",\"fe2_e\", \"fe3_e\", \"k_e\",\"mg2_e\",\n",
    "              \"mn2_e\", \"mobd_e\", \"ni2_e\", \"o2_e\", \"pi_e\", \"so4_e\", \"zn2_e\"]\n",
    "for nutrient in base_nutrients:\n",
    "    l.set_specific_metabolite(nutrient, 1000)\n",
    "l.set_specific_metabolite(\"lcts_e\", 0.000278)\n",
    "l.set_specific_metabolite(\"mea_e\", 0.0015)\n",
    "\n",
    "p = c.params()\n",
    "p.set_param(\"defaultKm\", 0.00001) # M \n",
    "p.set_param(\"defaultVmax\", 10) #mmol/gDw/hr\n",
    "p.set_param(\"maxCycles\", 200)\n",
    "p.set_param(\"timeStep\", 1)\n",
    "p.set_param('writeMediaLog', True)\n",
    "p.set_param('MediaLogRate', 1)\n",
    "p.set_param('writeFluxLog', True)\n",
    "p.set_param('FluxLogRate', 1)\n",
    "p.set_param(\"totalBiomassLogRate\", 1)\n",
    "\n",
    "sim = c.comets(l, p)\n",
    "sim.run()\n",
    "\n",
    "ESM_bound_phageplasmid = max(sim.fluxes_by_species[\"iJO1366\"][\"phage_M13\"])"
   ]
  },
  {
   "cell_type": "markdown",
   "id": "3ac8afde",
   "metadata": {},
   "source": [
    "# ES"
   ]
  },
  {
   "cell_type": "code",
   "execution_count": 6,
   "id": "c50b5fc5",
   "metadata": {},
   "outputs": [
    {
     "name": "stdout",
     "output_type": "stream",
     "text": [
      "\n",
      "Running COMETS simulation ...\n",
      "\n",
      "Debug Here ...\n",
      "Done!\n"
     ]
    }
   ],
   "source": [
    "#phage only\n",
    "E0_infected.reactions.plasmid_F.lower_bound = 0.0\n",
    "E0_infected.objective = E0_infected.reactions.phage_M13\n",
    "\n",
    "E_infected = c.model(E0_infected)\n",
    "S = c.model(S0)\n",
    "E_infected.open_exchanges()\n",
    "S.open_exchanges()\n",
    "\n",
    "E_infected.initial_pop = [0, 0, 1.e-8]\n",
    "S.initial_pop = [0, 0, 1.e-8]\n",
    "E_infected.obj_style = \"MAXIMIZE_OBJECTIVE_FLUX\"\n",
    "S.obj_style =  \"MAXIMIZE_OBJECTIVE_FLUX\"\n",
    "\n",
    "l = c.layout([E_infected,S])\n",
    "base_nutrients = [\"ca2_e\", \"cl_e\", \"cobalt2_e\", \"cu2_e\",\"fe2_e\", \"fe3_e\", \"k_e\",\"mg2_e\",\n",
    "              \"mn2_e\", \"mobd_e\", \"ni2_e\", \"o2_e\", \"nh4_e\",\"pi_e\", \"so4_e\", \"zn2_e\"]\n",
    "for nutrient in base_nutrients:\n",
    "    l.set_specific_metabolite(nutrient, 1000)\n",
    "l.set_specific_metabolite(\"lcts_e\", 0.000278)\n",
    "\n",
    "p = c.params()\n",
    "p.set_param(\"defaultKm\", 0.00001) # M \n",
    "p.set_param(\"defaultVmax\", 10) #mmol/gDw/hr\n",
    "p.set_param(\"maxCycles\", 200)\n",
    "p.set_param(\"timeStep\", 1)\n",
    "p.set_param('writeMediaLog', True)\n",
    "p.set_param('MediaLogRate', 1)\n",
    "p.set_param('writeFluxLog', True)\n",
    "p.set_param('FluxLogRate', 1)\n",
    "p.set_param(\"totalBiomassLogRate\", 1)\n",
    "\n",
    "sim = c.comets(l, p)\n",
    "sim.run()\n",
    "\n",
    "ES_bound_phage = max(sim.fluxes_by_species[\"iJO1366\"][\"phage_M13\"])"
   ]
  },
  {
   "cell_type": "code",
   "execution_count": 7,
   "id": "7a10c7a0",
   "metadata": {},
   "outputs": [
    {
     "name": "stdout",
     "output_type": "stream",
     "text": [
      "\n",
      "Running COMETS simulation ...\n",
      "\n",
      "Debug Here ...\n",
      "Done!\n"
     ]
    }
   ],
   "source": [
    "#plasmid only\n",
    "E0_infected.objective = E0_infected.reactions.plasmid_F\n",
    "\n",
    "E_infected = c.model(E0_infected)\n",
    "S = c.model(S0)\n",
    "E_infected.open_exchanges()\n",
    "S.open_exchanges()\n",
    "\n",
    "E_infected.initial_pop = [0, 0, 1.e-8]\n",
    "S.initial_pop = [0, 0, 1.e-8]\n",
    "E_infected.obj_style = \"MAXIMIZE_OBJECTIVE_FLUX\"\n",
    "S.obj_style =  \"MAXIMIZE_OBJECTIVE_FLUX\"\n",
    "\n",
    "l = c.layout([E_infected,S])\n",
    "base_nutrients = [\"ca2_e\", \"cl_e\", \"cobalt2_e\", \"cu2_e\",\"fe2_e\", \"fe3_e\", \"k_e\",\"mg2_e\",\n",
    "              \"mn2_e\", \"mobd_e\", \"ni2_e\", \"o2_e\", \"nh4_e\",\"pi_e\", \"so4_e\", \"zn2_e\"]\n",
    "for nutrient in base_nutrients:\n",
    "    l.set_specific_metabolite(nutrient, 1000)\n",
    "l.set_specific_metabolite(\"lcts_e\", 0.000278)\n",
    "\n",
    "p = c.params()\n",
    "p.set_param(\"defaultKm\", 0.00001) # M \n",
    "p.set_param(\"defaultVmax\", 10) #mmol/gDw/hr\n",
    "p.set_param(\"maxCycles\", 200)\n",
    "p.set_param(\"timeStep\", 1)\n",
    "p.set_param('writeMediaLog', True)\n",
    "p.set_param('MediaLogRate', 1)\n",
    "p.set_param('writeFluxLog', True)\n",
    "p.set_param('FluxLogRate', 1)\n",
    "p.set_param(\"totalBiomassLogRate\", 1)\n",
    "\n",
    "sim = c.comets(l, p)\n",
    "sim.run()\n",
    "\n",
    "ES_bound_plasmid = max(sim.fluxes_by_species[\"iJO1366\"][\"plasmid_F\"])"
   ]
  },
  {
   "cell_type": "code",
   "execution_count": 8,
   "id": "48f7fc63",
   "metadata": {},
   "outputs": [
    {
     "name": "stdout",
     "output_type": "stream",
     "text": [
      "\n",
      "Running COMETS simulation ...\n",
      "\n",
      "Debug Here ...\n",
      "Done!\n"
     ]
    }
   ],
   "source": [
    "#phage and plasmid\n",
    "E0_infected.objective = E0_infected.reactions.phage_M13\n",
    "E0_infected.reactions.plasmid_F.lower_bound = 0.9\n",
    "\n",
    "E_infected = c.model(E0_infected)\n",
    "S = c.model(S0)\n",
    "E_infected.open_exchanges()\n",
    "S.open_exchanges()\n",
    "\n",
    "E_infected.initial_pop = [0, 0, 1.e-8]\n",
    "S.initial_pop = [0, 0, 1.e-8]\n",
    "E_infected.obj_style = \"MAXIMIZE_OBJECTIVE_FLUX\"\n",
    "S.obj_style =  \"MAXIMIZE_OBJECTIVE_FLUX\"\n",
    "\n",
    "l = c.layout([E_infected,S])\n",
    "base_nutrients = [\"ca2_e\", \"cl_e\", \"cobalt2_e\", \"cu2_e\",\"fe2_e\", \"fe3_e\", \"k_e\",\"mg2_e\",\n",
    "              \"mn2_e\", \"mobd_e\", \"ni2_e\", \"o2_e\", \"nh4_e\",\"pi_e\", \"so4_e\", \"zn2_e\"]\n",
    "for nutrient in base_nutrients:\n",
    "    l.set_specific_metabolite(nutrient, 1000)\n",
    "l.set_specific_metabolite(\"lcts_e\", 0.000278)\n",
    "\n",
    "p = c.params()\n",
    "p.set_param(\"defaultKm\", 0.00001) # M \n",
    "p.set_param(\"defaultVmax\", 10) #mmol/gDw/hr\n",
    "p.set_param(\"maxCycles\", 200)\n",
    "p.set_param(\"timeStep\", 1)\n",
    "p.set_param('writeMediaLog', True)\n",
    "p.set_param('MediaLogRate', 1)\n",
    "p.set_param('writeFluxLog', True)\n",
    "p.set_param('FluxLogRate', 1)\n",
    "p.set_param(\"totalBiomassLogRate\", 1)\n",
    "\n",
    "sim = c.comets(l, p)\n",
    "sim.run()\n",
    "\n",
    "ES_bound_phageplasmid = max(sim.fluxes_by_species[\"iJO1366\"][\"phage_M13\"])"
   ]
  },
  {
   "cell_type": "markdown",
   "id": "27818d63",
   "metadata": {},
   "source": [
    "# E monoculture"
   ]
  },
  {
   "cell_type": "code",
   "execution_count": 9,
   "id": "47f9b3f5",
   "metadata": {},
   "outputs": [
    {
     "name": "stdout",
     "output_type": "stream",
     "text": [
      "\n",
      "Running COMETS simulation ...\n",
      "\n",
      "Debug Here ...\n",
      "Done!\n"
     ]
    }
   ],
   "source": [
    "#phage only\n",
    "E0_infected.reactions.plasmid_F.lower_bound = 0.0\n",
    "E0_infected.objective = E0_infected.reactions.phage_M13\n",
    "\n",
    "E_infected = c.model(E0_infected)\n",
    "E_infected.open_exchanges()\n",
    "\n",
    "E_infected.initial_pop = [0, 0, 1.e-8]\n",
    "E_infected.obj_style = \"MAXIMIZE_OBJECTIVE_FLUX\"\n",
    "\n",
    "l = c.layout([E_infected])\n",
    "base_nutrients = [\"ca2_e\", \"cl_e\", \"cobalt2_e\", \"cu2_e\",\"fe2_e\", \"fe3_e\", \"k_e\",\"mg2_e\",\n",
    "              \"mn2_e\", \"mobd_e\", \"ni2_e\", \"o2_e\", \"nh4_e\",\"pi_e\", \"so4_e\", \"zn2_e\"]\n",
    "for nutrient in base_nutrients:\n",
    "    l.set_specific_metabolite(nutrient, 1000)\n",
    "l.set_specific_metabolite(\"lcts_e\", 0.000278)\n",
    "l.set_specific_metabolite(\"met__L_e\", 10)\n",
    "\n",
    "p = c.params()\n",
    "p.set_param(\"defaultKm\", 0.00001) # M \n",
    "p.set_param(\"defaultVmax\", 10) #mmol/gDw/hr\n",
    "p.set_param(\"maxCycles\", 200)\n",
    "p.set_param(\"timeStep\", 1)\n",
    "p.set_param('writeMediaLog', True)\n",
    "p.set_param('MediaLogRate', 1)\n",
    "p.set_param('writeFluxLog', True)\n",
    "p.set_param('FluxLogRate', 1)\n",
    "p.set_param(\"totalBiomassLogRate\", 1)\n",
    "\n",
    "sim = c.comets(l, p)\n",
    "sim.run()\n",
    "\n",
    "E_bound_phage = max(sim.fluxes_by_species[\"iJO1366\"][\"phage_M13\"])"
   ]
  },
  {
   "cell_type": "code",
   "execution_count": 10,
   "id": "f164e0f1",
   "metadata": {},
   "outputs": [
    {
     "name": "stdout",
     "output_type": "stream",
     "text": [
      "\n",
      "Running COMETS simulation ...\n",
      "\n",
      "Debug Here ...\n",
      "Done!\n"
     ]
    }
   ],
   "source": [
    "#plasmid only\n",
    "E0_infected.objective = E0_infected.reactions.plasmid_F\n",
    "\n",
    "E_infected = c.model(E0_infected)\n",
    "E_infected.open_exchanges()\n",
    "\n",
    "E_infected.initial_pop = [0, 0, 1.e-8]\n",
    "E_infected.obj_style = \"MAXIMIZE_OBJECTIVE_FLUX\"\n",
    "\n",
    "l = c.layout([E_infected])\n",
    "base_nutrients = [\"ca2_e\", \"cl_e\", \"cobalt2_e\", \"cu2_e\",\"fe2_e\", \"fe3_e\", \"k_e\",\"mg2_e\",\n",
    "              \"mn2_e\", \"mobd_e\", \"ni2_e\", \"o2_e\", \"nh4_e\",\"pi_e\", \"so4_e\", \"zn2_e\"]\n",
    "for nutrient in base_nutrients:\n",
    "    l.set_specific_metabolite(nutrient, 1000)\n",
    "l.set_specific_metabolite(\"lcts_e\", 0.000278)\n",
    "l.set_specific_metabolite(\"met__L_e\", 10)\n",
    "\n",
    "p = c.params()\n",
    "p.set_param(\"defaultKm\", 0.00001) # M \n",
    "p.set_param(\"defaultVmax\", 10) #mmol/gDw/hr\n",
    "p.set_param(\"maxCycles\", 200)\n",
    "p.set_param(\"timeStep\", 1)\n",
    "p.set_param('writeMediaLog', True)\n",
    "p.set_param('MediaLogRate', 1)\n",
    "p.set_param('writeFluxLog', True)\n",
    "p.set_param('FluxLogRate', 1)\n",
    "p.set_param(\"totalBiomassLogRate\", 1)\n",
    "\n",
    "sim = c.comets(l, p)\n",
    "sim.run()\n",
    "\n",
    "E_bound_plasmid = max(sim.fluxes_by_species[\"iJO1366\"][\"plasmid_F\"])"
   ]
  },
  {
   "cell_type": "code",
   "execution_count": 11,
   "id": "7eb8b52b",
   "metadata": {},
   "outputs": [
    {
     "name": "stdout",
     "output_type": "stream",
     "text": [
      "\n",
      "Running COMETS simulation ...\n",
      "\n",
      "Debug Here ...\n",
      "Done!\n"
     ]
    }
   ],
   "source": [
    "#phage with plasmid\n",
    "E0_infected.reactions.plasmid_F.lower_bound = 0.9\n",
    "E0_infected.objective = E0_infected.reactions.phage_M13\n",
    "\n",
    "E_infected = c.model(E0_infected)\n",
    "E_infected.open_exchanges()\n",
    "\n",
    "E_infected.initial_pop = [0, 0, 1.e-8]\n",
    "E_infected.obj_style = \"MAXIMIZE_OBJECTIVE_FLUX\"\n",
    "\n",
    "l = c.layout([E_infected])\n",
    "base_nutrients = [\"ca2_e\", \"cl_e\", \"cobalt2_e\", \"cu2_e\",\"fe2_e\", \"fe3_e\", \"k_e\",\"mg2_e\",\n",
    "              \"mn2_e\", \"mobd_e\", \"ni2_e\", \"o2_e\", \"nh4_e\",\"pi_e\", \"so4_e\", \"zn2_e\"]\n",
    "for nutrient in base_nutrients:\n",
    "    l.set_specific_metabolite(nutrient, 1000)\n",
    "l.set_specific_metabolite(\"lcts_e\", 0.000278)\n",
    "l.set_specific_metabolite(\"met__L_e\", 10)\n",
    "\n",
    "p = c.params()\n",
    "p.set_param(\"defaultKm\", 0.00001) # M \n",
    "p.set_param(\"defaultVmax\", 10) #mmol/gDw/hr\n",
    "p.set_param(\"maxCycles\", 200)\n",
    "p.set_param(\"timeStep\", 1)\n",
    "p.set_param('writeMediaLog', True)\n",
    "p.set_param('MediaLogRate', 1)\n",
    "p.set_param('writeFluxLog', True)\n",
    "p.set_param('FluxLogRate', 1)\n",
    "p.set_param(\"totalBiomassLogRate\", 1)\n",
    "\n",
    "sim = c.comets(l, p)\n",
    "sim.run()\n",
    "\n",
    "E_bound_phageplasmid = max(sim.fluxes_by_species[\"iJO1366\"][\"phage_M13\"])"
   ]
  },
  {
   "cell_type": "markdown",
   "id": "8b3b064c",
   "metadata": {},
   "source": [
    "# EM"
   ]
  },
  {
   "cell_type": "code",
   "execution_count": 12,
   "id": "636d7e0d",
   "metadata": {},
   "outputs": [
    {
     "name": "stdout",
     "output_type": "stream",
     "text": [
      "\n",
      "Running COMETS simulation ...\n",
      "\n",
      "Debug Here ...\n",
      "Done!\n"
     ]
    }
   ],
   "source": [
    "#phage only\n",
    "E0_infected.reactions.plasmid_F.lower_bound = 0.0\n",
    "E0_infected.objective = E0_infected.reactions.phage_M13\n",
    "\n",
    "E_infected = c.model(E0_infected)\n",
    "M = c.model(M0)\n",
    "E_infected.open_exchanges()\n",
    "M.open_exchanges()\n",
    "\n",
    "E_infected.initial_pop = [0, 0, 1.e-8]\n",
    "M.initial_pop = [0, 0, 1.e-8]\n",
    "E_infected.obj_style = \"MAXIMIZE_OBJECTIVE_FLUX\"\n",
    "M.obj_style =  \"MAXIMIZE_OBJECTIVE_FLUX\"\n",
    "\n",
    "l = c.layout([E_infected,M])\n",
    "base_nutrients = [\"ca2_e\", \"cl_e\", \"cobalt2_e\", \"cu2_e\",\"fe2_e\", \"fe3_e\", \"k_e\",\"mg2_e\",\n",
    "              \"mn2_e\", \"mobd_e\", \"ni2_e\", \"o2_e\", \"pi_e\", \"so4_e\", \"zn2_e\"]\n",
    "for nutrient in base_nutrients:\n",
    "    l.set_specific_metabolite(nutrient, 1000)\n",
    "l.set_specific_metabolite(\"lcts_e\", 0.000278)\n",
    "l.set_specific_metabolite(\"mea_e\", 0.0015)\n",
    "l.set_specific_metabolite(\"met__L_e\", 10)\n",
    "\n",
    "p = c.params()\n",
    "p.set_param(\"defaultKm\", 0.00001) # M \n",
    "p.set_param(\"defaultVmax\", 10) #mmol/gDw/hr\n",
    "p.set_param(\"maxCycles\", 200)\n",
    "p.set_param(\"timeStep\", 1)\n",
    "p.set_param('writeMediaLog', True)\n",
    "p.set_param('MediaLogRate', 1)\n",
    "p.set_param('writeFluxLog', True)\n",
    "p.set_param('FluxLogRate', 1)\n",
    "p.set_param(\"totalBiomassLogRate\", 1)\n",
    "\n",
    "sim = c.comets(l, p)\n",
    "sim.run()\n",
    "\n",
    "EM_bound_phage = max(sim.fluxes_by_species[\"iJO1366\"][\"phage_M13\"])"
   ]
  },
  {
   "cell_type": "code",
   "execution_count": 13,
   "id": "7f79ea12",
   "metadata": {},
   "outputs": [
    {
     "name": "stdout",
     "output_type": "stream",
     "text": [
      "\n",
      "Running COMETS simulation ...\n",
      "\n",
      "Debug Here ...\n",
      "Done!\n"
     ]
    }
   ],
   "source": [
    "#plasmid only\n",
    "E0_infected.objective = E0_infected.reactions.plasmid_F\n",
    "\n",
    "E_infected = c.model(E0_infected)\n",
    "M = c.model(M0)\n",
    "E_infected.open_exchanges()\n",
    "M.open_exchanges()\n",
    "\n",
    "E_infected.initial_pop = [0, 0, 1.e-8]\n",
    "M.initial_pop = [0, 0, 1.e-8]\n",
    "E_infected.obj_style = \"MAXIMIZE_OBJECTIVE_FLUX\"\n",
    "M.obj_style =  \"MAXIMIZE_OBJECTIVE_FLUX\"\n",
    "\n",
    "l = c.layout([E_infected,M])\n",
    "base_nutrients = [\"ca2_e\", \"cl_e\", \"cobalt2_e\", \"cu2_e\",\"fe2_e\", \"fe3_e\", \"k_e\",\"mg2_e\",\n",
    "              \"mn2_e\", \"mobd_e\", \"ni2_e\", \"o2_e\", \"pi_e\", \"so4_e\", \"zn2_e\"]\n",
    "for nutrient in base_nutrients:\n",
    "    l.set_specific_metabolite(nutrient, 1000)\n",
    "l.set_specific_metabolite(\"lcts_e\", 0.000278)\n",
    "l.set_specific_metabolite(\"mea_e\", 0.0015)\n",
    "l.set_specific_metabolite(\"met__L_e\", 10)\n",
    "\n",
    "p = c.params()\n",
    "p.set_param(\"defaultKm\", 0.00001) # M \n",
    "p.set_param(\"defaultVmax\", 10) #mmol/gDw/hr\n",
    "p.set_param(\"maxCycles\", 200)\n",
    "p.set_param(\"timeStep\", 1)\n",
    "p.set_param('writeMediaLog', True)\n",
    "p.set_param('MediaLogRate', 1)\n",
    "p.set_param('writeFluxLog', True)\n",
    "p.set_param('FluxLogRate', 1)\n",
    "p.set_param(\"totalBiomassLogRate\", 1)\n",
    "\n",
    "sim = c.comets(l, p)\n",
    "sim.run()\n",
    "\n",
    "EM_bound_plasmid = max(sim.fluxes_by_species[\"iJO1366\"][\"plasmid_F\"])"
   ]
  },
  {
   "cell_type": "code",
   "execution_count": 14,
   "id": "3e3ea131",
   "metadata": {},
   "outputs": [
    {
     "name": "stdout",
     "output_type": "stream",
     "text": [
      "\n",
      "Running COMETS simulation ...\n",
      "\n",
      "Debug Here ...\n",
      "Done!\n"
     ]
    }
   ],
   "source": [
    "#phage with plasmid\n",
    "E0_infected.reactions.plasmid_F.lower_bound = 0.9\n",
    "E0_infected.objective = E0_infected.reactions.phage_M13\n",
    "\n",
    "E_infected = c.model(E0_infected)\n",
    "M = c.model(M0)\n",
    "E_infected.open_exchanges()\n",
    "M.open_exchanges()\n",
    "\n",
    "E_infected.initial_pop = [0, 0, 1.e-8]\n",
    "M.initial_pop = [0, 0, 1.e-8]\n",
    "E_infected.obj_style = \"MAXIMIZE_OBJECTIVE_FLUX\"\n",
    "M.obj_style =  \"MAXIMIZE_OBJECTIVE_FLUX\"\n",
    "\n",
    "l = c.layout([E_infected,M])\n",
    "base_nutrients = [\"ca2_e\", \"cl_e\", \"cobalt2_e\", \"cu2_e\",\"fe2_e\", \"fe3_e\", \"k_e\",\"mg2_e\",\n",
    "              \"mn2_e\", \"mobd_e\", \"ni2_e\", \"o2_e\", \"pi_e\", \"so4_e\", \"zn2_e\"]\n",
    "for nutrient in base_nutrients:\n",
    "    l.set_specific_metabolite(nutrient, 1000)\n",
    "l.set_specific_metabolite(\"lcts_e\", 0.000278)\n",
    "l.set_specific_metabolite(\"mea_e\", 0.0015)\n",
    "l.set_specific_metabolite(\"met__L_e\", 10)\n",
    "\n",
    "p = c.params()\n",
    "p.set_param(\"defaultKm\", 0.00001) # M \n",
    "p.set_param(\"defaultVmax\", 10) #mmol/gDw/hr\n",
    "p.set_param(\"maxCycles\", 200)\n",
    "p.set_param(\"timeStep\", 1)\n",
    "p.set_param('writeMediaLog', True)\n",
    "p.set_param('MediaLogRate', 1)\n",
    "p.set_param('writeFluxLog', True)\n",
    "p.set_param('FluxLogRate', 1)\n",
    "p.set_param(\"totalBiomassLogRate\", 1)\n",
    "\n",
    "sim = c.comets(l, p)\n",
    "sim.run()\n",
    "\n",
    "EM_bound_phageplasmid = max(sim.fluxes_by_species[\"iJO1366\"][\"phage_M13\"])"
   ]
  },
  {
   "cell_type": "markdown",
   "id": "4d708563",
   "metadata": {},
   "source": [
    "# Print the final values for easy future use "
   ]
  },
  {
   "cell_type": "code",
   "execution_count": 15,
   "id": "b3265410-68fb-4819-8083-b331c240f44d",
   "metadata": {},
   "outputs": [
    {
     "name": "stdout",
     "output_type": "stream",
     "text": [
      "1.0408699846\n",
      "1.0227541037\n",
      "0.12492842765\n"
     ]
    }
   ],
   "source": [
    "print(E_bound_phage)\n",
    "print(E_bound_plasmid)\n",
    "print(E_bound_phageplasmid)"
   ]
  },
  {
   "cell_type": "code",
   "execution_count": 16,
   "id": "de6ef429",
   "metadata": {},
   "outputs": [
    {
     "name": "stdout",
     "output_type": "stream",
     "text": [
      "1.0408699846\n",
      "0.56350519265\n",
      "0.5249955979\n",
      "0.53267028898\n"
     ]
    }
   ],
   "source": [
    "print(E_bound_phage)\n",
    "print(ES_bound_phage)\n",
    "print(EM_bound_phage)\n",
    "print(ESM_bound_phage)"
   ]
  },
  {
   "cell_type": "code",
   "execution_count": 17,
   "id": "ce9c17d0",
   "metadata": {},
   "outputs": [
    {
     "name": "stdout",
     "output_type": "stream",
     "text": [
      "1.0227541037\n",
      "0.65154948653\n",
      "0.51137705186\n",
      "0.60563141258\n"
     ]
    }
   ],
   "source": [
    "print(E_bound_plasmid)\n",
    "print(ES_bound_plasmid)\n",
    "print(EM_bound_plasmid)\n",
    "print(ESM_bound_plasmid)"
   ]
  },
  {
   "cell_type": "code",
   "execution_count": 18,
   "id": "ea4f78fd",
   "metadata": {},
   "outputs": [
    {
     "name": "stdout",
     "output_type": "stream",
     "text": [
      "0.12492842765\n",
      "0.0\n",
      "0.1249282966\n",
      "0.0\n"
     ]
    }
   ],
   "source": [
    "print(E_bound_phageplasmid)\n",
    "print(ES_bound_phageplasmid)\n",
    "print(EM_bound_phageplasmid)\n",
    "print(ESM_bound_phageplasmid)"
   ]
  },
  {
   "cell_type": "code",
   "execution_count": null,
   "id": "361f17d9-fb84-4fda-a790-bce19ef105c7",
   "metadata": {},
   "outputs": [],
   "source": []
  }
 ],
 "metadata": {
  "kernelspec": {
   "display_name": "Python 3 (ipykernel)",
   "language": "python",
   "name": "python3"
  },
  "language_info": {
   "codemirror_mode": {
    "name": "ipython",
    "version": 3
   },
   "file_extension": ".py",
   "mimetype": "text/x-python",
   "name": "python",
   "nbconvert_exporter": "python",
   "pygments_lexer": "ipython3",
   "version": "3.8.19"
  }
 },
 "nbformat": 4,
 "nbformat_minor": 5
}
