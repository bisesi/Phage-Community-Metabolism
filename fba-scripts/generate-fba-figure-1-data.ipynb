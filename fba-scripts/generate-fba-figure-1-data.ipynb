{
 "cells": [
  {
   "cell_type": "markdown",
   "id": "11026859",
   "metadata": {},
   "source": [
    "# Metabolite fluxes and biomass under pFBA and FVA across infection statuses, *E. coli* in monoculture"
   ]
  },
  {
   "cell_type": "markdown",
   "id": "ef6a40e9",
   "metadata": {},
   "source": [
    "Set up the necessary environment."
   ]
  },
  {
   "cell_type": "code",
   "execution_count": 1,
   "id": "26885efa",
   "metadata": {},
   "outputs": [],
   "source": [
    "import cobra\n",
    "import numpy as np\n",
    "import pandas as pd\n",
    "import warnings\n",
    "warnings.filterwarnings('ignore')"
   ]
  },
  {
   "cell_type": "code",
   "execution_count": 2,
   "id": "9a144b3f",
   "metadata": {},
   "outputs": [],
   "source": [
    "#set the paths for loading the model and exporting the data\n",
    "model_path = \"../models/iJO1366_plasmid_phage.xml\"\n",
    "export_path = \"../fba-data/figure-1/cobra/\"\n",
    "ef1 = cobra.io.read_sbml_model(model_path)"
   ]
  },
  {
   "cell_type": "code",
   "execution_count": 18,
   "id": "fe10cc31-7980-4181-91a3-471005113873",
   "metadata": {},
   "outputs": [
    {
     "data": {
      "text/plain": [
       "'1.04306757175046 ala__L_c + 0.373193694583004 arg__L_c + 0.250705367998874 asn__L_c + 0.22892622664389 asp__L_c + 31.2729006765209 atp_c + 0.0614721065047087 cys__L_c + 0.000306008296322521 datp_c + 0.000308808257224839 dctp_c + 0.000308808257224839 dgtp_c + 0.000306008296322521 dttp_c + 0.238187369043553 gln__L_c + 0.166034912599756 glu__L_c + 0.547625048163282 gly_c + 31.2698405935577 h2o_c + 0.108905695544869 his__L_c + 0.301602627712357 ile__L_c + 0.950236446570275 leu__L_c + 0.317027151701196 lys__L_c + 0.423481070021571 met__L_c + 0.476659987338735 phe__L_c + 0.221033209317653 pro__L_c + 0.52578284299389 ser__L_c + 0.386358039411312 thr__L_c + 0.219850756328091 trp__L_c + 0.143534017921975 tyr__L_c + 0.833776083872902 val__L_c --> 31.2698405935577 adp_c + 31.2698405935577 h_c + 31.2698405935577 pi_c + 0.0122962793156625 ppi_c'"
      ]
     },
     "execution_count": 18,
     "metadata": {},
     "output_type": "execute_result"
    }
   ],
   "source": [
    "ef1.reactions.plasmid_F.reaction"
   ]
  },
  {
   "cell_type": "markdown",
   "id": "e211713a-4dc6-425a-aa9a-c6da64f81026",
   "metadata": {},
   "source": [
    "## Get the biomass reactions to compare components across host and parasites"
   ]
  },
  {
   "cell_type": "code",
   "execution_count": null,
   "id": "b3c56db0-aa6c-41ae-bf48-f3e50724056f",
   "metadata": {},
   "outputs": [],
   "source": [
    "def parse_to_dataframe(input_string):\n",
    "    # Split the input string at \" --> \" to separate the relevant and ignored parts\n",
    "    relevant_part = input_string.split(\" --> \")[0]\n",
    "    \n",
    "    # Split the relevant part by '+' to separate each term\n",
    "    terms = relevant_part.split(\" + \")\n",
    "    \n",
    "    # Initialize lists to store coefficients and chemical terms\n",
    "    coefficients = []\n",
    "    chemicals = []\n",
    "    \n",
    "    # Process each term\n",
    "    for term in terms:\n",
    "        # Split the term by whitespace to separate the coefficient and the chemical term\n",
    "        coefficient, chemical = term.split(\" \", 1)\n",
    "        coefficients.append(float(coefficient))\n",
    "        chemicals.append(chemical)\n",
    "    \n",
    "    # Create a DataFrame with two columns\n",
    "    df = pd.DataFrame({\n",
    "        'Coefficient': coefficients,\n",
    "        'Chemical': chemicals\n",
    "    })\n",
    "    \n",
    "    return df"
   ]
  },
  {
   "cell_type": "code",
   "execution_count": null,
   "id": "91335f10-38d6-4695-8fcb-2889371db9aa",
   "metadata": {},
   "outputs": [],
   "source": [
    "input_string = ef1.reactions.BIOMASS_Ec_iJO1366_core_53p95M.reaction\n",
    "df_host = parse_to_dataframe(input_string)\n",
    "df_host[\"reaction\"] = \"host\""
   ]
  },
  {
   "cell_type": "code",
   "execution_count": null,
   "id": "02a84bb9-0fe2-4dae-bd7d-1867e33b62d0",
   "metadata": {},
   "outputs": [],
   "source": [
    "input_string = ef1.reactions.phage_M13.reaction\n",
    "df_virus = parse_to_dataframe(input_string)\n",
    "df_virus[\"reaction\"] = \"virus\""
   ]
  },
  {
   "cell_type": "code",
   "execution_count": null,
   "id": "d830b202-04d8-469d-ab7d-d61b97f044ed",
   "metadata": {},
   "outputs": [],
   "source": [
    "input_string = ef1.reactions.plasmid_F.reaction\n",
    "df_plasmid = parse_to_dataframe(input_string)\n",
    "df_plasmid[\"reaction\"] = \"plasmid\""
   ]
  },
  {
   "cell_type": "code",
   "execution_count": null,
   "id": "d6437496-5e32-4856-a399-550bdbd54b64",
   "metadata": {},
   "outputs": [],
   "source": [
    "df = pd.concat([df_host, df_virus, df_plasmid])"
   ]
  },
  {
   "cell_type": "markdown",
   "id": "782e7440",
   "metadata": {},
   "source": [
    "## Find the maximum bacterial biomass that can be generated when parasite biomass is optimized"
   ]
  },
  {
   "cell_type": "code",
   "execution_count": 3,
   "id": "204322f1",
   "metadata": {},
   "outputs": [],
   "source": [
    "ef1 = cobra.io.read_sbml_model(model_path)\n",
    "medium = ef1.medium\n",
    "medium[\"EX_glc__D_e\"] = 0.0\n",
    "medium[\"EX_lcts_e\"] = 10.0\n",
    "medium[\"EX_met__L_e\"] = 10.0\n",
    "ef1.medium = medium\n",
    "ef1.genes.b3939.knock_out()\n",
    "ef1.objective = ef1.reactions.phage_M13 #set the objective to viral biomass\n",
    "solution = ef1.optimize()\n",
    "maximized_f1_gluc = solution.fluxes.phage_M13\n",
    "\n",
    "ef1 = cobra.io.read_sbml_model(model_path)\n",
    "medium = ef1.medium\n",
    "medium[\"EX_glc__D_e\"] = 0.0\n",
    "medium[\"EX_lcts_e\"] = 10.0\n",
    "medium[\"EX_met__L_e\"] = 10.0\n",
    "ef1.medium = medium\n",
    "ef1.genes.b3939.knock_out()\n",
    "ef1.objective = ef1.reactions.plasmid_F #set the objective to plasmid biomass\n",
    "solution = ef1.optimize()\n",
    "maximized_plasmid_gluc = solution.fluxes.plasmid_F"
   ]
  },
  {
   "cell_type": "markdown",
   "id": "345bf615",
   "metadata": {},
   "source": [
    "## Get fluxes using pFBA in either a host or parasite optimized state"
   ]
  },
  {
   "cell_type": "code",
   "execution_count": 4,
   "id": "0e379e90",
   "metadata": {},
   "outputs": [],
   "source": [
    "ef1 = cobra.io.read_sbml_model(model_path)\n",
    "medium = ef1.medium\n",
    "medium[\"EX_glc__D_e\"] = 0.0\n",
    "medium[\"EX_lcts_e\"] = 10.0\n",
    "medium[\"EX_met__L_e\"] = 10.0\n",
    "ef1.medium = medium\n",
    "ef1.genes.b3939.knock_out()\n",
    "ef1.objective = ef1.reactions.get_by_id(\"BIOMASS_Ec_iJO1366_core_53p95M\")\n",
    "solution = ef1.optimize()\n",
    "host_fluxes = pd.DataFrame(solution.fluxes)\n",
    "host_fluxes[\"parasite\"] = \"bacteria\""
   ]
  },
  {
   "cell_type": "code",
   "execution_count": 5,
   "id": "a1f92dad",
   "metadata": {},
   "outputs": [],
   "source": [
    "ef1 = cobra.io.read_sbml_model(model_path)\n",
    "medium = ef1.medium\n",
    "medium[\"EX_glc__D_e\"] = 0.0\n",
    "medium[\"EX_lcts_e\"] = 10.0\n",
    "medium[\"EX_met__L_e\"] = 10.0\n",
    "ef1.medium = medium\n",
    "ef1.genes.b3939.knock_out()\n",
    "ef1.objective = ef1.reactions.plasmid_F #set the objective to plasmid biomass\n",
    "solution = ef1.optimize()\n",
    "plasmid_fluxes = pd.DataFrame(solution.fluxes)\n",
    "plasmid_fluxes[\"parasite\"] = \"plasmid\""
   ]
  },
  {
   "cell_type": "code",
   "execution_count": 6,
   "id": "2410a835-3f08-4efc-ba90-7cfe219661a2",
   "metadata": {},
   "outputs": [],
   "source": [
    "pfba_optimized = pd.concat([host_fluxes, plasmid_fluxes])"
   ]
  },
  {
   "cell_type": "code",
   "execution_count": 7,
   "id": "c8e91e54-56aa-450f-829f-b473626b10b5",
   "metadata": {},
   "outputs": [],
   "source": [
    "range_plasmid_fluxes = pd.DataFrame()\n",
    "for i in np.arange(0, maximized_plasmid_gluc, 0.1):\n",
    "    ef1 = cobra.io.read_sbml_model(model_path)\n",
    "    medium = ef1.medium\n",
    "    medium[\"EX_glc__D_e\"] = 0.0\n",
    "    medium[\"EX_lcts_e\"] = 10.0\n",
    "    medium[\"EX_met__L_e\"] = 10.0\n",
    "    ef1.medium = medium\n",
    "    ef1.genes.b3939.knock_out()\n",
    "    ef1.objective = ef1.reactions.phage_M13 #set the objective to viral biomass given a plasmid lower bound\n",
    "    ef1.reactions.plasmid_F.lower_bound = i\n",
    "    solution = ef1.optimize()\n",
    "    plasmidphage_fluxes = pd.DataFrame(solution.fluxes)\n",
    "    plasmidphage_fluxes[\"parasite\"] = \"virus with plasmid\"\n",
    "    plasmidphage_fluxes[\"plasmid_bound\"] = i\n",
    "    range_plasmid_fluxes = pd.concat([range_plasmid_fluxes, plasmidphage_fluxes])"
   ]
  },
  {
   "cell_type": "markdown",
   "id": "fd498acf",
   "metadata": {},
   "source": [
    "## Get bacterial fluxes using FVA in a host or parasite optimized state"
   ]
  },
  {
   "cell_type": "code",
   "execution_count": 8,
   "id": "af591c8c",
   "metadata": {},
   "outputs": [],
   "source": [
    "#host only\n",
    "host_fva = pd.DataFrame()\n",
    "ef1 = cobra.io.read_sbml_model(model_path)\n",
    "ef1.genes.b3939.knock_out()\n",
    "medium = ef1.medium\n",
    "medium[\"EX_glc__D_e\"] = 0.0\n",
    "medium[\"EX_lcts_e\"] = 10.0\n",
    "medium[\"EX_met__L_e\"] = 10.0\n",
    "ef1.medium = medium\n",
    "ef1.objective = ef1.reactions.get_by_id(\"BIOMASS_Ec_iJO1366_core_53p95M\")\n",
    "solution = cobra.flux_analysis.flux_variability_analysis(ef1, ef1.reactions, fraction_of_optimum=0.95)\n",
    "host_fva = pd.concat([host_fva, solution])\n",
    "\n",
    "host_fva[\"optimized\"] = \"host\""
   ]
  },
  {
   "cell_type": "code",
   "execution_count": 9,
   "id": "a692adc5",
   "metadata": {},
   "outputs": [],
   "source": [
    "#plasmid only\n",
    "plasmid_fva = pd.DataFrame()\n",
    "ef1 = cobra.io.read_sbml_model(model_path)\n",
    "ef1.genes.b3939.knock_out()\n",
    "medium = ef1.medium\n",
    "medium[\"EX_glc__D_e\"] = 0.0\n",
    "medium[\"EX_lcts_e\"] = 10.0\n",
    "medium[\"EX_met__L_e\"] = 10.0\n",
    "ef1.medium = medium\n",
    "ef1.objective = ef1.reactions.plasmid_F\n",
    "solution = cobra.flux_analysis.flux_variability_analysis(ef1, ef1.reactions, fraction_of_optimum=0.95)\n",
    "plasmid_fva = pd.concat([plasmid_fva, solution])\n",
    "\n",
    "plasmid_fva[\"optimized\"] = \"plasmid\""
   ]
  },
  {
   "cell_type": "code",
   "execution_count": 10,
   "id": "e5367099",
   "metadata": {},
   "outputs": [],
   "source": [
    "fva_fluxes_optimized = pd.concat([plasmid_fva,host_fva])"
   ]
  },
  {
   "cell_type": "code",
   "execution_count": 11,
   "id": "a9dd3acc-ef67-410a-b5ad-408cfc04196a",
   "metadata": {},
   "outputs": [],
   "source": [
    "fvarange_plasmid_fluxes = pd.DataFrame()\n",
    "for i in np.arange(0, maximized_plasmid_gluc, 0.1):\n",
    "    plasmidphage_fva = pd.DataFrame()\n",
    "    ef1 = cobra.io.read_sbml_model(model_path)\n",
    "    ef1.genes.b3939.knock_out()\n",
    "    medium = ef1.medium\n",
    "    medium[\"EX_glc__D_e\"] = 0.0\n",
    "    medium[\"EX_lcts_e\"] = 10.0\n",
    "    medium[\"EX_met__L_e\"] = 10.0\n",
    "    ef1.medium = medium\n",
    "    ef1.objective = ef1.reactions.phage_M13\n",
    "    ef1.reactions.plasmid_F.lower_bound = i\n",
    "    solution = cobra.flux_analysis.flux_variability_analysis(ef1, ef1.reactions, fraction_of_optimum=0.95)\n",
    "    plasmidphage_fva = pd.concat([plasmidphage_fva, solution])\n",
    "    plasmidphage_fva[\"optimized\"] = \"virus with plasmid\"\n",
    "    plasmidphage_fva[\"plasmid_bound\"] = i\n",
    "    fvarange_plasmid_fluxes = pd.concat([fvarange_plasmid_fluxes, plasmidphage_fva])"
   ]
  },
  {
   "cell_type": "markdown",
   "id": "8bc0c4d0",
   "metadata": {},
   "source": [
    "## Subprocesses for categorization"
   ]
  },
  {
   "cell_type": "code",
   "execution_count": null,
   "id": "c0099f83",
   "metadata": {},
   "outputs": [],
   "source": [
    "subprocesses = pd.DataFrame()\n",
    "for x in ef1.groups:\n",
    "    temp = pd.DataFrame()\n",
    "    temp[\"reaction\"] = [x.members[i].id for i in range(0, len(x.members))]\n",
    "    temp[\"group_name\"] = x.name\n",
    "    temp[\"id\"] = x.id\n",
    "    subprocesses = subprocesses.append(temp)"
   ]
  },
  {
   "cell_type": "markdown",
   "id": "1b5c2153",
   "metadata": {},
   "source": [
    "# Finally, save and export all data files for analysis in R."
   ]
  },
  {
   "cell_type": "code",
   "execution_count": 12,
   "id": "8944fa73",
   "metadata": {},
   "outputs": [
    {
     "ename": "NameError",
     "evalue": "name 'df' is not defined",
     "output_type": "error",
     "traceback": [
      "\u001b[0;31m---------------------------------------------------------------------------\u001b[0m",
      "\u001b[0;31mNameError\u001b[0m                                 Traceback (most recent call last)",
      "Cell \u001b[0;32mIn[12], line 4\u001b[0m\n\u001b[1;32m      2\u001b[0m fva_fluxes_optimized\u001b[38;5;241m.\u001b[39mto_csv(export_path \u001b[38;5;241m+\u001b[39m \u001b[38;5;124m'\u001b[39m\u001b[38;5;124mfva_fluxes_optimized.csv\u001b[39m\u001b[38;5;124m'\u001b[39m)\n\u001b[1;32m      3\u001b[0m \u001b[38;5;66;03m#subprocesses.to_csv(export_path + 'subprocesses.csv') # cellular subprocesses\u001b[39;00m\n\u001b[0;32m----> 4\u001b[0m \u001b[43mdf\u001b[49m\u001b[38;5;241m.\u001b[39mto_csv(export_path \u001b[38;5;241m+\u001b[39m \u001b[38;5;124m'\u001b[39m\u001b[38;5;124mcore_reactions.csv\u001b[39m\u001b[38;5;124m'\u001b[39m) \u001b[38;5;66;03m#core biomass metabolites\u001b[39;00m\n\u001b[1;32m      5\u001b[0m range_plasmid_fluxes\u001b[38;5;241m.\u001b[39mto_csv(export_path \u001b[38;5;241m+\u001b[39m \u001b[38;5;124m'\u001b[39m\u001b[38;5;124mpfba_fluxes_virusplasmid_plasmidrange_virusoptimized.csv\u001b[39m\u001b[38;5;124m'\u001b[39m) \u001b[38;5;66;03m# change plasmid production range while maximizing phage\u001b[39;00m\n\u001b[1;32m      6\u001b[0m fvarange_plasmid_fluxes\u001b[38;5;241m.\u001b[39mto_csv(export_path \u001b[38;5;241m+\u001b[39m \u001b[38;5;124m'\u001b[39m\u001b[38;5;124mfva_fluxes_virusplasmid_plasmidrange_virusoptimized.csv\u001b[39m\u001b[38;5;124m'\u001b[39m) \u001b[38;5;66;03m# change plasmid production range while maximizing phage\u001b[39;00m\n",
      "\u001b[0;31mNameError\u001b[0m: name 'df' is not defined"
     ]
    }
   ],
   "source": [
    "pfba_optimized.to_csv(export_path + 'pfba_fluxes_optimized.csv')\n",
    "fva_fluxes_optimized.to_csv(export_path + 'fva_fluxes_optimized.csv')\n",
    "#subprocesses.to_csv(export_path + 'subprocesses.csv') # cellular subprocesses\n",
    "df.to_csv(export_path + 'core_reactions.csv') #core biomass metabolites\n",
    "range_plasmid_fluxes.to_csv(export_path + 'pfba_fluxes_virusplasmid_plasmidrange_virusoptimized.csv') # change plasmid production range while maximizing phage\n",
    "fvarange_plasmid_fluxes.to_csv(export_path + 'fva_fluxes_virusplasmid_plasmidrange_virusoptimized.csv') # change plasmid production range while maximizing phage"
   ]
  },
  {
   "cell_type": "code",
   "execution_count": null,
   "id": "fd205094-b6cc-4e97-9ab7-92417efcb248",
   "metadata": {},
   "outputs": [],
   "source": []
  }
 ],
 "metadata": {
  "kernelspec": {
   "display_name": "Python 3 (ipykernel)",
   "language": "python",
   "name": "python3"
  },
  "language_info": {
   "codemirror_mode": {
    "name": "ipython",
    "version": 3
   },
   "file_extension": ".py",
   "mimetype": "text/x-python",
   "name": "python",
   "nbconvert_exporter": "python",
   "pygments_lexer": "ipython3",
   "version": "3.8.19"
  }
 },
 "nbformat": 4,
 "nbformat_minor": 5
}
